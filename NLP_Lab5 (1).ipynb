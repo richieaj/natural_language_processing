{
 "cells": [
  {
   "cell_type": "code",
   "execution_count": 1,
   "id": "c3d83be1",
   "metadata": {},
   "outputs": [
    {
     "name": "stdout",
     "output_type": "stream",
     "text": [
      "[('``', '``'), ('Shri', 'NNP'), ('Narendra', 'NNP'), ('Modi', 'NNP'), ('was', 'VBD'), ('sworn-in', 'JJ'), ('as', 'IN'), ('India', 'NNP'), ('’', 'NNP'), ('s', 'VBD'), ('Prime', 'NNP'), ('Minister', 'NNP'), ('on', 'IN'), ('30th', 'CD'), ('May', 'NNP'), ('2019', 'CD'), (',', ','), ('marking', 'VBG'), ('the', 'DT'), ('start', 'NN'), ('of', 'IN'), ('his', 'PRP$'), ('second', 'JJ'), ('term', 'NN'), ('in', 'IN'), ('office', 'NN'), ('.', '.')]\n",
      "[('The', 'DT'), ('first', 'JJ'), ('ever', 'RB'), ('Prime', 'NNP'), ('Minister', 'NNP'), ('to', 'TO'), ('be', 'VB'), ('born', 'VBN'), ('after', 'IN'), ('Independence', 'NNP'), (',', ','), ('Shri', 'NNP'), ('Modi', 'NNP'), ('has', 'VBZ'), ('previously', 'RB'), ('served', 'VBN'), ('as', 'IN'), ('the', 'DT'), ('Prime', 'NNP'), ('Minister', 'NNP'), ('of', 'IN'), ('India', 'NNP'), ('from', 'IN'), ('2014', 'CD'), ('to', 'TO'), ('2019', 'CD'), ('.', '.')]\n",
      "[('He', 'PRP'), ('also', 'RB'), ('has', 'VBZ'), ('the', 'DT'), ('distinction', 'NN'), ('of', 'IN'), ('being', 'VBG'), ('the', 'DT'), ('longest', 'JJS'), ('serving', 'NN'), ('Chief', 'JJ'), ('Minister', 'NNP'), ('of', 'IN'), ('Gujarat', 'NNP'), ('with', 'IN'), ('his', 'PRP$'), ('term', 'NN'), ('spanning', 'VBG'), ('from', 'IN'), ('October', 'NNP'), ('2001', 'CD'), ('to', 'TO'), ('May', 'NNP'), ('2014', 'CD'), ('.', '.')]\n",
      "[('In', 'IN'), ('the', 'DT'), ('2014', 'CD'), ('and', 'CC'), ('2019', 'CD'), ('Parliamentary', 'NNP'), ('elections', 'NNS'), (',', ','), ('Shri', 'NNP'), ('Modi', 'NNP'), ('led', 'VBD'), ('the', 'DT'), ('Bharatiya', 'NNP'), ('Janata', 'NNP'), ('Party', 'NNP'), ('to', 'TO'), ('record', 'VB'), ('wins', 'NNS'), (',', ','), ('securing', 'VBG'), ('absolute', 'JJ'), ('majority', 'NN'), ('on', 'IN'), ('both', 'DT'), ('occasions', 'NNS'), ('.', '.')]\n"
     ]
    }
   ],
   "source": [
    "import nltk\n",
    "from nltk.corpus import stopwords\n",
    "from nltk.tokenize import word_tokenize, sent_tokenize\n",
    "\n",
    "stop_words = set(stopwords.words('english'))\n",
    "txt = text = \"\"\"\"Shri Narendra Modi was sworn-in as India’s Prime Minister on 30th May 2019, marking the start of his second term in office.\n",
    "                 The first ever Prime Minister to be born after Independence, Shri Modi has previously served as the Prime Minister of India from 2014 to 2019.\n",
    "                 He also has the distinction of being the longest serving Chief Minister of Gujarat with his term spanning from October 2001 to May 2014. \n",
    "                 In the 2014 and 2019 Parliamentary elections, Shri Modi led the Bharatiya Janata Party to record wins, securing absolute majority on both occasions. \"\"\"\n",
    "\n",
    "#Splits at a space\n",
    "text.split()\n",
    "#sent_tokenize is one of instances of\n",
    "#PunktSentenceTokenizer from the nltk.tokenize.punkt module\n",
    "tokenized = sent_tokenize(txt)\n",
    "for i in tokenized:\n",
    " # Word tokenizers is used to find the words\n",
    " # and punctuation in a string\n",
    "    wordsList = nltk.word_tokenize(i)\n",
    " # removing stop words from wordList\n",
    "    wordList = [w for w in wordsList if not w in stop_words]\n",
    " # Using a tagger which is part of speech\n",
    " # tagger or POS-tagger\n",
    "    tagged = nltk.pos_tag(wordsList)\n",
    "    print(tagged)"
   ]
  },
  {
   "cell_type": "code",
   "execution_count": 2,
   "id": "9c0828c8",
   "metadata": {},
   "outputs": [
    {
     "name": "stdout",
     "output_type": "stream",
     "text": [
      "['Welcome', 'to', 'NLP', 'class']\n",
      "[('Welcome', 'VB'), ('to', 'TO'), ('NLP', 'NNP'), ('class', 'NN')]\n",
      "(S Welcome/VB to/TO NLP/NNP (NP class/NN))\n"
     ]
    }
   ],
   "source": [
    "import nltk\n",
    "text = \"Welcome to NLP class\"\n",
    "tokens = nltk.word_tokenize(text)\n",
    "print(tokens)\n",
    "tag = nltk.pos_tag(tokens)\n",
    "print(tag)\n",
    "grammer = \"NP: {<DT>?<JJ>*<NN>}\"\n",
    "cp = nltk.RegexpParser(grammer)\n",
    "result = cp.parse(tag)\n",
    "print(result)\n",
    "#result "
   ]
  },
  {
   "cell_type": "markdown",
   "id": "f3c52097",
   "metadata": {},
   "source": [
    "The respective parts of speech for the input sentence tokens are obtained."
   ]
  },
  {
   "cell_type": "code",
   "execution_count": 3,
   "id": "cade65ea",
   "metadata": {},
   "outputs": [
    {
     "name": "stdout",
     "output_type": "stream",
     "text": [
      "After Split: ['Learn', 'NLP', 'from', 'Christ', 'University', 'and', 'make', 'study', 'easy']\n",
      "Afetr Token: [('Learn', 'NNP'), ('NLP', 'NNP'), ('from', 'IN'), ('Christ', 'NNP'), ('University', 'NNP'), ('and', 'CC'), ('make', 'VB'), ('study', 'NN'), ('easy', 'JJ')]\n",
      "After Regex: chunk.RegexpParser with 1 stages:\n",
      "RegexpChunkParser with 1 rules:\n",
      "       <ChunkRule: '<NN.?>*<VBD.?>*<JJ.?>*<CC>?'>\n",
      "After Chunking (S\n",
      "  (mychunk Learn/NNP NLP/NNP)\n",
      "  from/IN\n",
      "  (mychunk Christ/NNP University/NNP and/CC)\n",
      "  make/VB\n",
      "  (mychunk study/NN easy/JJ))\n"
     ]
    }
   ],
   "source": [
    "from nltk import pos_tag\n",
    "from nltk import RegexpParser\n",
    "text = \"Learn NLP from Christ University and make study easy\".split()\n",
    "print(\"After Split:\",text)\n",
    "tokens_tag = pos_tag(text)\n",
    "print(\"Afetr Token:\", tokens_tag)\n",
    "patterns = \"\"\"mychunk:{<NN.?>*<VBD.?>*<JJ.?>*<CC>?}\"\"\"\n",
    "chunker = RegexpParser(patterns)\n",
    "print(\"After Regex:\", chunker)\n",
    "output = chunker.parse(tokens_tag)\n",
    "print(\"After Chunking\", output)"
   ]
  },
  {
   "cell_type": "markdown",
   "id": "472da215",
   "metadata": {},
   "source": [
    "To obtain tokens and their parts of speech"
   ]
  },
  {
   "cell_type": "code",
   "execution_count": 4,
   "id": "fe3fe4fa",
   "metadata": {},
   "outputs": [],
   "source": [
    "import nltk\n",
    "import os \n",
    "import nltk.corpus\n",
    "from nltk.tokenize import word_tokenize\n",
    "from nltk.tokenize import RegexpTokenizer\n",
    "from nltk.data import load"
   ]
  },
  {
   "cell_type": "code",
   "execution_count": 5,
   "id": "413634ec",
   "metadata": {},
   "outputs": [
    {
     "data": {
      "text/plain": [
       "['I', 'love', 'to', 'eat', 'pasta']"
      ]
     },
     "execution_count": 5,
     "metadata": {},
     "output_type": "execute_result"
    }
   ],
   "source": [
    "sent = \"I love to eat pasta\"\n",
    "sent_tokens = word_tokenize(sent)\n",
    "sent_tokens"
   ]
  },
  {
   "cell_type": "code",
   "execution_count": 6,
   "id": "c5a68aa3",
   "metadata": {},
   "outputs": [
    {
     "name": "stdout",
     "output_type": "stream",
     "text": [
      "[('I', 'PRP')]\n",
      "[('love', 'NN')]\n",
      "[('to', 'TO')]\n",
      "[('eat', 'NN')]\n",
      "[('pasta', 'NN')]\n"
     ]
    }
   ],
   "source": [
    "for token in sent_tokens:\n",
    "    print(nltk.pos_tag([token]))"
   ]
  },
  {
   "cell_type": "code",
   "execution_count": 7,
   "id": "84681545",
   "metadata": {},
   "outputs": [
    {
     "name": "stdout",
     "output_type": "stream",
     "text": [
      "[('Peter', 'NNP')]\n",
      "[('is', 'VBZ')]\n",
      "[('eating', 'VBG')]\n",
      "[('a', 'DT')]\n",
      "[('delicious', 'JJ')]\n",
      "[('cake', 'NN')]\n"
     ]
    }
   ],
   "source": [
    "sent2 = \"Peter is eating a delicious cake\"\n",
    "sent2_tokens = word_tokenize(sent2)\n",
    "for token in sent2_tokens:\n",
    "    print(nltk.pos_tag([token]))"
   ]
  },
  {
   "cell_type": "code",
   "execution_count": 8,
   "id": "9e12bd52",
   "metadata": {},
   "outputs": [
    {
     "name": "stdout",
     "output_type": "stream",
     "text": [
      "[('Jim', 'NNP')]\n",
      "[('eats', 'NNS')]\n",
      "[('a', 'DT')]\n",
      "[('banana', 'NN')]\n"
     ]
    }
   ],
   "source": [
    "sent3 = \"Jim eats a banana\"\n",
    "sent3_tokens = word_tokenize(sent3)\n",
    "for token in sent3_tokens:\n",
    "    print(nltk.pos_tag([token]))"
   ]
  },
  {
   "cell_type": "markdown",
   "id": "a89aac48",
   "metadata": {},
   "source": [
    "Regular expressiona tokenizer"
   ]
  },
  {
   "cell_type": "code",
   "execution_count": 9,
   "id": "a5a4adee",
   "metadata": {},
   "outputs": [
    {
     "data": {
      "text/plain": [
       "['Jim', ' ', 'eats', ' ', 'a', ' ', 'banana']"
      ]
     },
     "execution_count": 9,
     "metadata": {},
     "output_type": "execute_result"
    }
   ],
   "source": [
    "reg_tokenizer = RegexpTokenizer('(?u)\\w+|\\$[\\d\\.]+|\\s+')\n",
    "regex_tokenize = reg_tokenizer.tokenize(sent3)\n",
    "regex_tokenize"
   ]
  },
  {
   "cell_type": "code",
   "execution_count": 10,
   "id": "866ab467",
   "metadata": {},
   "outputs": [
    {
     "data": {
      "text/plain": [
       "[('Jim', 'NNP'),\n",
       " (' ', 'NNP'),\n",
       " ('eats', 'VBZ'),\n",
       " (' ', 'VBP'),\n",
       " ('a', 'DT'),\n",
       " (' ', 'NN'),\n",
       " ('banana', 'NN')]"
      ]
     },
     "execution_count": 10,
     "metadata": {},
     "output_type": "execute_result"
    }
   ],
   "source": [
    "regex_tag = nltk.pos_tag(regex_tokenize)\n",
    "regex_tag"
   ]
  },
  {
   "cell_type": "code",
   "execution_count": 11,
   "id": "548ad010",
   "metadata": {},
   "outputs": [
    {
     "name": "stdout",
     "output_type": "stream",
     "text": [
      "['abc', 'abc.zip', 'alpino', 'alpino.zip', 'biocreative_ppi', 'biocreative_ppi.zip', 'brown', 'brown.zip', 'brown_tei', 'brown_tei.zip', 'cess_cat', 'cess_cat.zip', 'cess_esp', 'cess_esp.zip', 'chat80', 'chat80.zip', 'city_database', 'city_database.zip', 'cmudict', 'cmudict.zip', 'comparative_sentences', 'comparative_sentences.zip', 'comtrans.zip', 'conll2000', 'conll2000.zip', 'conll2002', 'conll2002.zip', 'conll2007.zip', 'crubadan', 'crubadan.zip', 'dependency_treebank', 'dependency_treebank.zip', 'dolch', 'dolch.zip', 'europarl_raw', 'europarl_raw.zip', 'extended_omw.zip', 'floresta', 'floresta.zip', 'framenet_v15', 'framenet_v15.zip', 'framenet_v17', 'framenet_v17.zip', 'gazetteers', 'gazetteers.zip', 'genesis', 'genesis.zip', 'gutenberg', 'gutenberg.zip', 'ieer', 'ieer.zip', 'inaugural', 'inaugural.zip', 'indian', 'indian.zip', 'jeita.zip', 'kimmo', 'kimmo.zip', 'knbc.zip', 'lin_thesaurus', 'lin_thesaurus.zip', 'machado.zip', 'mac_morpho', 'mac_morpho.zip', 'masc_tagged.zip', 'movie_reviews', 'movie_reviews.zip', 'mte_teip5', 'mte_teip5.zip', 'names', 'names.zip', 'nombank.1.0.zip', 'nonbreaking_prefixes', 'nonbreaking_prefixes.zip', 'nps_chat', 'nps_chat.zip', 'omw-1.4.zip', 'omw.zip', 'opinion_lexicon', 'opinion_lexicon.zip', 'panlex_swadesh.zip', 'paradigms', 'paradigms.zip', 'pe08', 'pe08.zip', 'pil', 'pil.zip', 'pl196x', 'pl196x.zip', 'ppattach', 'ppattach.zip', 'problem_reports', 'problem_reports.zip', 'product_reviews_1', 'product_reviews_1.zip', 'product_reviews_2', 'product_reviews_2.zip', 'propbank.zip', 'pros_cons', 'pros_cons.zip', 'ptb', 'ptb.zip', 'qc', 'qc.zip', 'reuters.zip', 'rte', 'rte.zip', 'semcor.zip', 'senseval', 'senseval.zip', 'sentence_polarity', 'sentence_polarity.zip', 'sentiwordnet', 'sentiwordnet.zip', 'shakespeare', 'shakespeare.zip', 'sinica_treebank', 'sinica_treebank.zip', 'smultron', 'smultron.zip', 'state_union', 'state_union.zip', 'stopwords', 'stopwords.zip', 'subjectivity', 'subjectivity.zip', 'swadesh', 'swadesh.zip', 'switchboard', 'switchboard.zip', 'timit', 'timit.zip', 'toolbox', 'toolbox.zip', 'treebank', 'treebank.zip', 'twitter_samples', 'twitter_samples.zip', 'udhr', 'udhr.zip', 'udhr2', 'udhr2.zip', 'unicode_samples', 'unicode_samples.zip', 'universal_treebanks_v20.zip', 'verbnet', 'verbnet.zip', 'verbnet3', 'verbnet3.zip', 'webtext', 'webtext.zip', 'wordnet.zip', 'wordnet2021.zip', 'wordnet31.zip', 'wordnet_ic', 'wordnet_ic.zip', 'words', 'words.zip', 'ycoe', 'ycoe.zip']\n"
     ]
    }
   ],
   "source": [
    "# List of directories in corpora\n",
    "print(os.listdir(nltk.data.find(\"corpora\")))"
   ]
  },
  {
   "cell_type": "code",
   "execution_count": 12,
   "id": "9287f86b",
   "metadata": {},
   "outputs": [
    {
     "data": {
      "text/plain": [
       "['austen-emma.txt',\n",
       " 'austen-persuasion.txt',\n",
       " 'austen-sense.txt',\n",
       " 'bible-kjv.txt',\n",
       " 'blake-poems.txt',\n",
       " 'bryant-stories.txt',\n",
       " 'burgess-busterbrown.txt',\n",
       " 'carroll-alice.txt',\n",
       " 'chesterton-ball.txt',\n",
       " 'chesterton-brown.txt',\n",
       " 'chesterton-thursday.txt',\n",
       " 'edgeworth-parents.txt',\n",
       " 'melville-moby_dick.txt',\n",
       " 'milton-paradise.txt',\n",
       " 'shakespeare-caesar.txt',\n",
       " 'shakespeare-hamlet.txt',\n",
       " 'shakespeare-macbeth.txt',\n",
       " 'whitman-leaves.txt']"
      ]
     },
     "execution_count": 12,
     "metadata": {},
     "output_type": "execute_result"
    }
   ],
   "source": [
    "#fields of gutenberg\n",
    "nltk.corpus.gutenberg.fileids()"
   ]
  },
  {
   "cell_type": "markdown",
   "id": "b8e6d860",
   "metadata": {},
   "source": [
    "To obtain the \"shakespeare-hamlet.txt\" from the nltk corpus"
   ]
  },
  {
   "cell_type": "code",
   "execution_count": 13,
   "id": "58c81d13",
   "metadata": {},
   "outputs": [],
   "source": [
    "hamlet = nltk.corpus.gutenberg.words('shakespeare-hamlet.txt')"
   ]
  },
  {
   "cell_type": "code",
   "execution_count": 14,
   "id": "60376e11",
   "metadata": {},
   "outputs": [
    {
     "data": {
      "text/plain": [
       "37360"
      ]
     },
     "execution_count": 14,
     "metadata": {},
     "output_type": "execute_result"
    }
   ],
   "source": [
    "len(hamlet)"
   ]
  },
  {
   "cell_type": "code",
   "execution_count": 15,
   "id": "9386e70f",
   "metadata": {},
   "outputs": [],
   "source": [
    "hamlet_pos = []"
   ]
  },
  {
   "cell_type": "code",
   "execution_count": 16,
   "id": "0abc453d",
   "metadata": {},
   "outputs": [],
   "source": [
    "for word in hamlet[:2000]:\n",
    "    word_pos = nltk.pos_tag([word])\n",
    "    hamlet_pos.append(word_pos)"
   ]
  },
  {
   "cell_type": "code",
   "execution_count": 17,
   "id": "9c4389a5",
   "metadata": {},
   "outputs": [
    {
     "data": {
      "text/plain": [
       "[[('[', 'NN')],\n",
       " [('The', 'DT')],\n",
       " [('Tragedie', 'NN')],\n",
       " [('of', 'IN')],\n",
       " [('Hamlet', 'NN')],\n",
       " [('by', 'IN')],\n",
       " [('William', 'NNP')],\n",
       " [('Shakespeare', 'NN')],\n",
       " [('1599', 'CD')],\n",
       " [(']', 'NN')],\n",
       " [('Actus', 'NN')],\n",
       " [('Primus', 'NN')],\n",
       " [('.', '.')],\n",
       " [('Scoena', 'NN')],\n",
       " [('Prima', 'NN')],\n",
       " [('.', '.')],\n",
       " [('Enter', 'NN')],\n",
       " [('Barnardo', 'NN')],\n",
       " [('and', 'CC')],\n",
       " [('Francisco', 'NNP')],\n",
       " [('two', 'CD')],\n",
       " [('Centinels', 'NNS')],\n",
       " [('.', '.')],\n",
       " [('Barnardo', 'NN')],\n",
       " [('.', '.')],\n",
       " [('Who', 'WP')],\n",
       " [(\"'\", \"''\")],\n",
       " [('s', 'NN')],\n",
       " [('there', 'RB')],\n",
       " [('?', '.')],\n",
       " [('Fran', 'NN')],\n",
       " [('.', '.')],\n",
       " [('Nay', 'NN')],\n",
       " [('answer', 'NN')],\n",
       " [('me', 'PRP')],\n",
       " [(':', ':')],\n",
       " [('Stand', 'NN')],\n",
       " [('&', 'CC')],\n",
       " [('vnfold', 'NN')],\n",
       " [('your', 'PRP$')],\n",
       " [('selfe', 'NN')],\n",
       " [('Bar', 'NN')],\n",
       " [('.', '.')],\n",
       " [('Long', 'RB')],\n",
       " [('liue', 'NN')],\n",
       " [('the', 'DT')],\n",
       " [('King', 'VBG')],\n",
       " [('Fran', 'NN')],\n",
       " [('.', '.')],\n",
       " [('Barnardo', 'NN')],\n",
       " [('?', '.')],\n",
       " [('Bar', 'NN')],\n",
       " [('.', '.')],\n",
       " [('He', 'PRP')],\n",
       " [('Fran', 'NN')],\n",
       " [('.', '.')],\n",
       " [('You', 'PRP')],\n",
       " [('come', 'VB')],\n",
       " [('most', 'JJS')],\n",
       " [('carefully', 'RB')],\n",
       " [('vpon', 'NN')],\n",
       " [('your', 'PRP$')],\n",
       " [('houre', 'NN')],\n",
       " [('Bar', 'NN')],\n",
       " [('.', '.')],\n",
       " [(\"'\", \"''\")],\n",
       " [('Tis', 'NN')],\n",
       " [('now', 'RB')],\n",
       " [('strook', 'NN')],\n",
       " [('twelue', 'NN')],\n",
       " [(',', ',')],\n",
       " [('get', 'VB')],\n",
       " [('thee', 'NN')],\n",
       " [('to', 'TO')],\n",
       " [('bed', 'NN')],\n",
       " [('Francisco', 'NNP')],\n",
       " [('Fran', 'NN')],\n",
       " [('.', '.')],\n",
       " [('For', 'IN')],\n",
       " [('this', 'DT')],\n",
       " [('releefe', 'NN')],\n",
       " [('much', 'JJ')],\n",
       " [('thankes', 'NNS')],\n",
       " [(':', ':')],\n",
       " [(\"'\", \"''\")],\n",
       " [('Tis', 'NN')],\n",
       " [('bitter', 'NN')],\n",
       " [('cold', 'NN')],\n",
       " [(',', ',')],\n",
       " [('And', 'CC')],\n",
       " [('I', 'PRP')],\n",
       " [('am', 'VBP')],\n",
       " [('sicke', 'NN')],\n",
       " [('at', 'IN')],\n",
       " [('heart', 'NN')],\n",
       " [('Barn', 'NN')],\n",
       " [('.', '.')],\n",
       " [('Haue', 'NN')],\n",
       " [('you', 'PRP')],\n",
       " [('had', 'VBD')],\n",
       " [('quiet', 'JJ')],\n",
       " [('Guard', 'NN')],\n",
       " [('?', '.')],\n",
       " [('Fran', 'NN')],\n",
       " [('.', '.')],\n",
       " [('Not', 'RB')],\n",
       " [('a', 'DT')],\n",
       " [('Mouse', 'NN')],\n",
       " [('stirring', 'VBG')],\n",
       " [('Barn', 'NN')],\n",
       " [('.', '.')],\n",
       " [('Well', 'RB')],\n",
       " [(',', ',')],\n",
       " [('goodnight', 'NN')],\n",
       " [('.', '.')],\n",
       " [('If', 'IN')],\n",
       " [('you', 'PRP')],\n",
       " [('do', 'VB')],\n",
       " [('meet', 'NN')],\n",
       " [('Horatio', 'NN')],\n",
       " [('and', 'CC')],\n",
       " [('Marcellus', 'NN')],\n",
       " [(',', ',')],\n",
       " [('the', 'DT')],\n",
       " [('Riuals', 'NNS')],\n",
       " [('of', 'IN')],\n",
       " [('my', 'PRP$')],\n",
       " [('Watch', 'NN')],\n",
       " [(',', ',')],\n",
       " [('bid', 'NN')],\n",
       " [('them', 'PRP')],\n",
       " [('make', 'VB')],\n",
       " [('hast', 'NN')],\n",
       " [('.', '.')],\n",
       " [('Enter', 'NN')],\n",
       " [('Horatio', 'NN')],\n",
       " [('and', 'CC')],\n",
       " [('Marcellus', 'NN')],\n",
       " [('.', '.')],\n",
       " [('Fran', 'NN')],\n",
       " [('.', '.')],\n",
       " [('I', 'PRP')],\n",
       " [('thinke', 'NN')],\n",
       " [('I', 'PRP')],\n",
       " [('heare', 'NN')],\n",
       " [('them', 'PRP')],\n",
       " [('.', '.')],\n",
       " [('Stand', 'NN')],\n",
       " [(':', ':')],\n",
       " [('who', 'WP')],\n",
       " [(\"'\", \"''\")],\n",
       " [('s', 'NN')],\n",
       " [('there', 'RB')],\n",
       " [('?', '.')],\n",
       " [('Hor', 'NN')],\n",
       " [('.', '.')],\n",
       " [('Friends', 'NNS')],\n",
       " [('to', 'TO')],\n",
       " [('this', 'DT')],\n",
       " [('ground', 'NN')],\n",
       " [('Mar', 'NN')],\n",
       " [('.', '.')],\n",
       " [('And', 'CC')],\n",
       " [('Leige', 'NN')],\n",
       " [('-', ':')],\n",
       " [('men', 'NNS')],\n",
       " [('to', 'TO')],\n",
       " [('the', 'DT')],\n",
       " [('Dane', 'NN')],\n",
       " [('Fran', 'NN')],\n",
       " [('.', '.')],\n",
       " [('Giue', 'NN')],\n",
       " [('you', 'PRP')],\n",
       " [('good', 'JJ')],\n",
       " [('night', 'NN')],\n",
       " [('Mar', 'NN')],\n",
       " [('.', '.')],\n",
       " [('O', 'NN')],\n",
       " [('farwel', 'NN')],\n",
       " [('honest', 'NN')],\n",
       " [('Soldier', 'NN')],\n",
       " [(',', ',')],\n",
       " [('who', 'WP')],\n",
       " [('hath', 'NN')],\n",
       " [('relieu', 'NN')],\n",
       " [(\"'\", \"''\")],\n",
       " [('d', 'NN')],\n",
       " [('you', 'PRP')],\n",
       " [('?', '.')],\n",
       " [('Fra', 'NN')],\n",
       " [('.', '.')],\n",
       " [('Barnardo', 'NN')],\n",
       " [('ha', 'NN')],\n",
       " [(\"'\", \"''\")],\n",
       " [('s', 'NN')],\n",
       " [('my', 'PRP$')],\n",
       " [('place', 'NN')],\n",
       " [(':', ':')],\n",
       " [('giue', 'NN')],\n",
       " [('you', 'PRP')],\n",
       " [('goodnight', 'NN')],\n",
       " [('.', '.')],\n",
       " [('Exit', 'NN')],\n",
       " [('Fran', 'NN')],\n",
       " [('.', '.')],\n",
       " [('Mar', 'NN')],\n",
       " [('.', '.')],\n",
       " [('Holla', 'NN')],\n",
       " [('Barnardo', 'NN')],\n",
       " [('Bar', 'NN')],\n",
       " [('.', '.')],\n",
       " [('Say', 'NN')],\n",
       " [(',', ',')],\n",
       " [('what', 'WP')],\n",
       " [('is', 'VBZ')],\n",
       " [('Horatio', 'NN')],\n",
       " [('there', 'RB')],\n",
       " [('?', '.')],\n",
       " [('Hor', 'NN')],\n",
       " [('.', '.')],\n",
       " [('A', 'DT')],\n",
       " [('peece', 'NN')],\n",
       " [('of', 'IN')],\n",
       " [('him', 'PRP')],\n",
       " [('Bar', 'NN')],\n",
       " [('.', '.')],\n",
       " [('Welcome', 'VB')],\n",
       " [('Horatio', 'NN')],\n",
       " [(',', ',')],\n",
       " [('welcome', 'NN')],\n",
       " [('good', 'JJ')],\n",
       " [('Marcellus', 'NN')],\n",
       " [('Mar', 'NN')],\n",
       " [('.', '.')],\n",
       " [('What', 'WP')],\n",
       " [(',', ',')],\n",
       " [('ha', 'NN')],\n",
       " [(\"'\", \"''\")],\n",
       " [('s', 'NN')],\n",
       " [('this', 'DT')],\n",
       " [('thing', 'NN')],\n",
       " [('appear', 'VB')],\n",
       " [(\"'\", \"''\")],\n",
       " [('d', 'NN')],\n",
       " [('againe', 'NN')],\n",
       " [('to', 'TO')],\n",
       " [('night', 'NN')],\n",
       " [('Bar', 'NN')],\n",
       " [('.', '.')],\n",
       " [('I', 'PRP')],\n",
       " [('haue', 'NN')],\n",
       " [('seene', 'NN')],\n",
       " [('nothing', 'NN')],\n",
       " [('Mar', 'NN')],\n",
       " [('.', '.')],\n",
       " [('Horatio', 'NN')],\n",
       " [('saies', 'NNS')],\n",
       " [(',', ',')],\n",
       " [(\"'\", \"''\")],\n",
       " [('tis', 'NN')],\n",
       " [('but', 'CC')],\n",
       " [('our', 'PRP$')],\n",
       " [('Fantasie', 'NN')],\n",
       " [(',', ',')],\n",
       " [('And', 'CC')],\n",
       " [('will', 'MD')],\n",
       " [('not', 'RB')],\n",
       " [('let', 'VB')],\n",
       " [('beleefe', 'NN')],\n",
       " [('take', 'VB')],\n",
       " [('hold', 'NN')],\n",
       " [('of', 'IN')],\n",
       " [('him', 'PRP')],\n",
       " [('Touching', 'VBG')],\n",
       " [('this', 'DT')],\n",
       " [('dreaded', 'VBN')],\n",
       " [('sight', 'NN')],\n",
       " [(',', ',')],\n",
       " [('twice', 'RB')],\n",
       " [('seene', 'NN')],\n",
       " [('of', 'IN')],\n",
       " [('vs', 'NN')],\n",
       " [(',', ',')],\n",
       " [('Therefore', 'RB')],\n",
       " [('I', 'PRP')],\n",
       " [('haue', 'NN')],\n",
       " [('intreated', 'VBN')],\n",
       " [('him', 'PRP')],\n",
       " [('along', 'IN')],\n",
       " [('With', 'IN')],\n",
       " [('vs', 'NN')],\n",
       " [(',', ',')],\n",
       " [('to', 'TO')],\n",
       " [('watch', 'NN')],\n",
       " [('the', 'DT')],\n",
       " [('minutes', 'NNS')],\n",
       " [('of', 'IN')],\n",
       " [('this', 'DT')],\n",
       " [('Night', 'NN')],\n",
       " [(',', ',')],\n",
       " [('That', 'DT')],\n",
       " [('if', 'IN')],\n",
       " [('againe', 'NN')],\n",
       " [('this', 'DT')],\n",
       " [('Apparition', 'NN')],\n",
       " [('come', 'VB')],\n",
       " [(',', ',')],\n",
       " [('He', 'PRP')],\n",
       " [('may', 'MD')],\n",
       " [('approue', 'NN')],\n",
       " [('our', 'PRP$')],\n",
       " [('eyes', 'NNS')],\n",
       " [(',', ',')],\n",
       " [('and', 'CC')],\n",
       " [('speake', 'NN')],\n",
       " [('to', 'TO')],\n",
       " [('it', 'PRP')],\n",
       " [('Hor', 'NN')],\n",
       " [('.', '.')],\n",
       " [('Tush', 'NN')],\n",
       " [(',', ',')],\n",
       " [('tush', 'NN')],\n",
       " [(',', ',')],\n",
       " [(\"'\", \"''\")],\n",
       " [('twill', 'NN')],\n",
       " [('not', 'RB')],\n",
       " [('appeare', 'NN')],\n",
       " [('Bar', 'NN')],\n",
       " [('.', '.')],\n",
       " [('Sit', 'NN')],\n",
       " [('downe', 'NN')],\n",
       " [('a', 'DT')],\n",
       " [('-', ':')],\n",
       " [('while', 'IN')],\n",
       " [(',', ',')],\n",
       " [('And', 'CC')],\n",
       " [('let', 'VB')],\n",
       " [('vs', 'NN')],\n",
       " [('once', 'RB')],\n",
       " [('againe', 'NN')],\n",
       " [('assaile', 'NN')],\n",
       " [('your', 'PRP$')],\n",
       " [('eares', 'NNS')],\n",
       " [(',', ',')],\n",
       " [('That', 'DT')],\n",
       " [('are', 'VBP')],\n",
       " [('so', 'RB')],\n",
       " [('fortified', 'VBN')],\n",
       " [('against', 'IN')],\n",
       " [('our', 'PRP$')],\n",
       " [('Story', 'NN')],\n",
       " [(',', ',')],\n",
       " [('What', 'WP')],\n",
       " [('we', 'PRP')],\n",
       " [('two', 'CD')],\n",
       " [('Nights', 'NNS')],\n",
       " [('haue', 'NN')],\n",
       " [('seene', 'NN')],\n",
       " [('Hor', 'NN')],\n",
       " [('.', '.')],\n",
       " [('Well', 'RB')],\n",
       " [(',', ',')],\n",
       " [('sit', 'NN')],\n",
       " [('we', 'PRP')],\n",
       " [('downe', 'NN')],\n",
       " [(',', ',')],\n",
       " [('And', 'CC')],\n",
       " [('let', 'VB')],\n",
       " [('vs', 'NN')],\n",
       " [('heare', 'NN')],\n",
       " [('Barnardo', 'NN')],\n",
       " [('speake', 'NN')],\n",
       " [('of', 'IN')],\n",
       " [('this', 'DT')],\n",
       " [('Barn', 'NN')],\n",
       " [('.', '.')],\n",
       " [('Last', 'JJ')],\n",
       " [('night', 'NN')],\n",
       " [('of', 'IN')],\n",
       " [('all', 'DT')],\n",
       " [(',', ',')],\n",
       " [('When', 'WRB')],\n",
       " [('yond', 'NN')],\n",
       " [('same', 'JJ')],\n",
       " [('Starre', 'NN')],\n",
       " [('that', 'IN')],\n",
       " [(\"'\", \"''\")],\n",
       " [('s', 'NN')],\n",
       " [('Westward', 'NNP')],\n",
       " [('from', 'IN')],\n",
       " [('the', 'DT')],\n",
       " [('Pole', 'NN')],\n",
       " [('Had', 'VBD')],\n",
       " [('made', 'VBN')],\n",
       " [('his', 'PRP$')],\n",
       " [('course', 'NN')],\n",
       " [('t', 'NN')],\n",
       " [(\"'\", \"''\")],\n",
       " [('illume', 'NN')],\n",
       " [('that', 'IN')],\n",
       " [('part', 'NN')],\n",
       " [('of', 'IN')],\n",
       " [('Heauen', 'NN')],\n",
       " [('Where', 'WRB')],\n",
       " [('now', 'RB')],\n",
       " [('it', 'PRP')],\n",
       " [('burnes', 'NNS')],\n",
       " [(',', ',')],\n",
       " [('Marcellus', 'NN')],\n",
       " [('and', 'CC')],\n",
       " [('my', 'PRP$')],\n",
       " [('selfe', 'NN')],\n",
       " [(',', ',')],\n",
       " [('The', 'DT')],\n",
       " [('Bell', 'NNP')],\n",
       " [('then', 'RB')],\n",
       " [('beating', 'NN')],\n",
       " [('one', 'CD')],\n",
       " [('Mar', 'NN')],\n",
       " [('.', '.')],\n",
       " [('Peace', 'NN')],\n",
       " [(',', ',')],\n",
       " [('breake', 'NN')],\n",
       " [('thee', 'NN')],\n",
       " [('of', 'IN')],\n",
       " [(':', ':')],\n",
       " [('Enter', 'NN')],\n",
       " [('the', 'DT')],\n",
       " [('Ghost', 'NN')],\n",
       " [('.', '.')],\n",
       " [('Looke', 'NN')],\n",
       " [('where', 'WRB')],\n",
       " [('it', 'PRP')],\n",
       " [('comes', 'VBZ')],\n",
       " [('againe', 'NN')],\n",
       " [('Barn', 'NN')],\n",
       " [('.', '.')],\n",
       " [('In', 'IN')],\n",
       " [('the', 'DT')],\n",
       " [('same', 'JJ')],\n",
       " [('figure', 'NN')],\n",
       " [(',', ',')],\n",
       " [('like', 'IN')],\n",
       " [('the', 'DT')],\n",
       " [('King', 'VBG')],\n",
       " [('that', 'IN')],\n",
       " [(\"'\", \"''\")],\n",
       " [('s', 'NN')],\n",
       " [('dead', 'JJ')],\n",
       " [('Mar', 'NN')],\n",
       " [('.', '.')],\n",
       " [('Thou', 'NN')],\n",
       " [('art', 'NN')],\n",
       " [('a', 'DT')],\n",
       " [('Scholler', 'NN')],\n",
       " [(';', ':')],\n",
       " [('speake', 'NN')],\n",
       " [('to', 'TO')],\n",
       " [('it', 'PRP')],\n",
       " [('Horatio', 'NN')],\n",
       " [('Barn', 'NN')],\n",
       " [('.', '.')],\n",
       " [('Lookes', 'NNS')],\n",
       " [('it', 'PRP')],\n",
       " [('not', 'RB')],\n",
       " [('like', 'IN')],\n",
       " [('the', 'DT')],\n",
       " [('King', 'VBG')],\n",
       " [('?', '.')],\n",
       " [('Marke', 'NN')],\n",
       " [('it', 'PRP')],\n",
       " [('Horatio', 'NN')],\n",
       " [('Hora', 'NNS')],\n",
       " [('.', '.')],\n",
       " [('Most', 'JJS')],\n",
       " [('like', 'IN')],\n",
       " [(':', ':')],\n",
       " [('It', 'PRP')],\n",
       " [('harrowes', 'NN')],\n",
       " [('me', 'PRP')],\n",
       " [('with', 'IN')],\n",
       " [('fear', 'NN')],\n",
       " [('&', 'CC')],\n",
       " [('wonder', 'NN')],\n",
       " [('Barn', 'NN')],\n",
       " [('.', '.')],\n",
       " [('It', 'PRP')],\n",
       " [('would', 'MD')],\n",
       " [('be', 'VB')],\n",
       " [('spoke', 'NN')],\n",
       " [('too', 'RB')],\n",
       " [('Mar', 'NN')],\n",
       " [('.', '.')],\n",
       " [('Question', 'NN')],\n",
       " [('it', 'PRP')],\n",
       " [('Horatio', 'NN')],\n",
       " [('Hor', 'NN')],\n",
       " [('.', '.')],\n",
       " [('What', 'WP')],\n",
       " [('art', 'NN')],\n",
       " [('thou', 'NN')],\n",
       " [('that', 'IN')],\n",
       " [('vsurp', 'NN')],\n",
       " [(\"'\", \"''\")],\n",
       " [('st', 'NN')],\n",
       " [('this', 'DT')],\n",
       " [('time', 'NN')],\n",
       " [('of', 'IN')],\n",
       " [('night', 'NN')],\n",
       " [(',', ',')],\n",
       " [('Together', 'RB')],\n",
       " [('with', 'IN')],\n",
       " [('that', 'IN')],\n",
       " [('Faire', 'NN')],\n",
       " [('and', 'CC')],\n",
       " [('Warlike', 'IN')],\n",
       " [('forme', 'NN')],\n",
       " [('In', 'IN')],\n",
       " [('which', 'WDT')],\n",
       " [('the', 'DT')],\n",
       " [('Maiesty', 'NN')],\n",
       " [('of', 'IN')],\n",
       " [('buried', 'VBN')],\n",
       " [('Denmarke', 'NN')],\n",
       " [('Did', 'NN')],\n",
       " [('sometimes', 'RB')],\n",
       " [('march', 'NN')],\n",
       " [(':', ':')],\n",
       " [('By', 'IN')],\n",
       " [('Heauen', 'NN')],\n",
       " [('I', 'PRP')],\n",
       " [('charge', 'NN')],\n",
       " [('thee', 'NN')],\n",
       " [('speake', 'NN')],\n",
       " [('Mar', 'NN')],\n",
       " [('.', '.')],\n",
       " [('It', 'PRP')],\n",
       " [('is', 'VBZ')],\n",
       " [('offended', 'VBN')],\n",
       " [('Barn', 'NN')],\n",
       " [('.', '.')],\n",
       " [('See', 'VB')],\n",
       " [(',', ',')],\n",
       " [('it', 'PRP')],\n",
       " [('stalkes', 'NNS')],\n",
       " [('away', 'RB')],\n",
       " [('Hor', 'NN')],\n",
       " [('.', '.')],\n",
       " [('Stay', 'NN')],\n",
       " [(':', ':')],\n",
       " [('speake', 'NN')],\n",
       " [(';', ':')],\n",
       " [('speake', 'NN')],\n",
       " [(':', ':')],\n",
       " [('I', 'PRP')],\n",
       " [('Charge', 'NN')],\n",
       " [('thee', 'NN')],\n",
       " [(',', ',')],\n",
       " [('speake', 'NN')],\n",
       " [('.', '.')],\n",
       " [('Exit', 'NN')],\n",
       " [('the', 'DT')],\n",
       " [('Ghost', 'NN')],\n",
       " [('.', '.')],\n",
       " [('Mar', 'NN')],\n",
       " [('.', '.')],\n",
       " [(\"'\", \"''\")],\n",
       " [('Tis', 'NN')],\n",
       " [('gone', 'VBN')],\n",
       " [(',', ',')],\n",
       " [('and', 'CC')],\n",
       " [('will', 'MD')],\n",
       " [('not', 'RB')],\n",
       " [('answer', 'NN')],\n",
       " [('Barn', 'NN')],\n",
       " [('.', '.')],\n",
       " [('How', 'WRB')],\n",
       " [('now', 'RB')],\n",
       " [('Horatio', 'NN')],\n",
       " [('?', '.')],\n",
       " [('You', 'PRP')],\n",
       " [('tremble', 'JJ')],\n",
       " [('&', 'CC')],\n",
       " [('look', 'NN')],\n",
       " [('pale', 'NN')],\n",
       " [(':', ':')],\n",
       " [('Is', 'NN')],\n",
       " [('not', 'RB')],\n",
       " [('this', 'DT')],\n",
       " [('something', 'NN')],\n",
       " [('more', 'RBR')],\n",
       " [('then', 'RB')],\n",
       " [('Fantasie', 'NN')],\n",
       " [('?', '.')],\n",
       " [('What', 'WP')],\n",
       " [('thinke', 'NN')],\n",
       " [('you', 'PRP')],\n",
       " [('on', 'IN')],\n",
       " [(\"'\", \"''\")],\n",
       " [('t', 'NN')],\n",
       " [('?', '.')],\n",
       " [('Hor', 'NN')],\n",
       " [('.', '.')],\n",
       " [('Before', 'IN')],\n",
       " [('my', 'PRP$')],\n",
       " [('God', 'NNP')],\n",
       " [(',', ',')],\n",
       " [('I', 'PRP')],\n",
       " [('might', 'MD')],\n",
       " [('not', 'RB')],\n",
       " [('this', 'DT')],\n",
       " [('beleeue', 'NN')],\n",
       " [('Without', 'IN')],\n",
       " [('the', 'DT')],\n",
       " [('sensible', 'JJ')],\n",
       " [('and', 'CC')],\n",
       " [('true', 'JJ')],\n",
       " [('auouch', 'JJ')],\n",
       " [('Of', 'IN')],\n",
       " [('mine', 'NN')],\n",
       " [('owne', 'NN')],\n",
       " [('eyes', 'NNS')],\n",
       " [('Mar', 'NN')],\n",
       " [('.', '.')],\n",
       " [('Is', 'NN')],\n",
       " [('it', 'PRP')],\n",
       " [('not', 'RB')],\n",
       " [('like', 'IN')],\n",
       " [('the', 'DT')],\n",
       " [('King', 'VBG')],\n",
       " [('?', '.')],\n",
       " [('Hor', 'NN')],\n",
       " [('.', '.')],\n",
       " [('As', 'IN')],\n",
       " [('thou', 'NN')],\n",
       " [('art', 'NN')],\n",
       " [('to', 'TO')],\n",
       " [('thy', 'NN')],\n",
       " [('selfe', 'NN')],\n",
       " [(',', ',')],\n",
       " [('Such', 'JJ')],\n",
       " [('was', 'VBD')],\n",
       " [('the', 'DT')],\n",
       " [('very', 'RB')],\n",
       " [('Armour', 'NN')],\n",
       " [('he', 'PRP')],\n",
       " [('had', 'VBD')],\n",
       " [('on', 'IN')],\n",
       " [(',', ',')],\n",
       " [('When', 'WRB')],\n",
       " [('th', 'NN')],\n",
       " [(\"'\", \"''\")],\n",
       " [('Ambitious', 'JJ')],\n",
       " [('Norwey', 'NN')],\n",
       " [('combatted', 'VBN')],\n",
       " [(':', ':')],\n",
       " [('So', 'RB')],\n",
       " [('frown', 'NN')],\n",
       " [(\"'\", \"''\")],\n",
       " [('d', 'NN')],\n",
       " [('he', 'PRP')],\n",
       " [('once', 'RB')],\n",
       " [(',', ',')],\n",
       " [('when', 'WRB')],\n",
       " [('in', 'IN')],\n",
       " [('an', 'DT')],\n",
       " [('angry', 'JJ')],\n",
       " [('parle', 'NN')],\n",
       " [('He', 'PRP')],\n",
       " [('smot', 'NN')],\n",
       " [('the', 'DT')],\n",
       " [('sledded', 'VBD')],\n",
       " [('Pollax', 'NN')],\n",
       " [('on', 'IN')],\n",
       " [('the', 'DT')],\n",
       " [('Ice', 'NN')],\n",
       " [('.', '.')],\n",
       " [(\"'\", \"''\")],\n",
       " [('Tis', 'NN')],\n",
       " [('strange', 'NN')],\n",
       " [('Mar', 'NN')],\n",
       " [('.', '.')],\n",
       " [('Thus', 'RB')],\n",
       " [('twice', 'RB')],\n",
       " [('before', 'IN')],\n",
       " [(',', ',')],\n",
       " [('and', 'CC')],\n",
       " [('iust', 'NN')],\n",
       " [('at', 'IN')],\n",
       " [('this', 'DT')],\n",
       " [('dead', 'JJ')],\n",
       " [('houre', 'NN')],\n",
       " [(',', ',')],\n",
       " [('With', 'IN')],\n",
       " [('Martiall', 'NN')],\n",
       " [('stalke', 'NN')],\n",
       " [(',', ',')],\n",
       " [('hath', 'NN')],\n",
       " [('he', 'PRP')],\n",
       " [('gone', 'VBN')],\n",
       " [('by', 'IN')],\n",
       " [('our', 'PRP$')],\n",
       " [('Watch', 'NN')],\n",
       " [('Hor', 'NN')],\n",
       " [('.', '.')],\n",
       " [('In', 'IN')],\n",
       " [('what', 'WP')],\n",
       " [('particular', 'JJ')],\n",
       " [('thought', 'NN')],\n",
       " [('to', 'TO')],\n",
       " [('work', 'NN')],\n",
       " [(',', ',')],\n",
       " [('I', 'PRP')],\n",
       " [('know', 'VB')],\n",
       " [('not', 'RB')],\n",
       " [(':', ':')],\n",
       " [('But', 'CC')],\n",
       " [('in', 'IN')],\n",
       " [('the', 'DT')],\n",
       " [('grosse', 'NN')],\n",
       " [('and', 'CC')],\n",
       " [('scope', 'NN')],\n",
       " [('of', 'IN')],\n",
       " [('my', 'PRP$')],\n",
       " [('Opinion', 'NN')],\n",
       " [(',', ',')],\n",
       " [('This', 'DT')],\n",
       " [('boades', 'NNS')],\n",
       " [('some', 'DT')],\n",
       " [('strange', 'NN')],\n",
       " [('erruption', 'NN')],\n",
       " [('to', 'TO')],\n",
       " [('our', 'PRP$')],\n",
       " [('State', 'NN')],\n",
       " [('Mar', 'NN')],\n",
       " [('.', '.')],\n",
       " [('Good', 'JJ')],\n",
       " [('now', 'RB')],\n",
       " [('sit', 'NN')],\n",
       " [('downe', 'NN')],\n",
       " [(',', ',')],\n",
       " [('&', 'CC')],\n",
       " [('tell', 'NN')],\n",
       " [('me', 'PRP')],\n",
       " [('he', 'PRP')],\n",
       " [('that', 'IN')],\n",
       " [('knowes', 'NN')],\n",
       " [('Why', 'WRB')],\n",
       " [('this', 'DT')],\n",
       " [('same', 'JJ')],\n",
       " [('strict', 'NN')],\n",
       " [('and', 'CC')],\n",
       " [('most', 'JJS')],\n",
       " [('obseruant', 'NN')],\n",
       " [('Watch', 'NN')],\n",
       " [(',', ',')],\n",
       " [('So', 'RB')],\n",
       " [('nightly', 'RB')],\n",
       " [('toyles', 'NNS')],\n",
       " [('the', 'DT')],\n",
       " [('subiect', 'NN')],\n",
       " [('of', 'IN')],\n",
       " [('the', 'DT')],\n",
       " [('Land', 'NN')],\n",
       " [(',', ',')],\n",
       " [('And', 'CC')],\n",
       " [('why', 'WRB')],\n",
       " [('such', 'JJ')],\n",
       " [('dayly', 'NN')],\n",
       " [('Cast', 'NN')],\n",
       " [('of', 'IN')],\n",
       " [('Brazon', 'NN')],\n",
       " [('Cannon', 'NN')],\n",
       " [('And', 'CC')],\n",
       " [('Forraigne', 'NN')],\n",
       " [('Mart', 'NNP')],\n",
       " [('for', 'IN')],\n",
       " [('Implements', 'NNS')],\n",
       " [('of', 'IN')],\n",
       " [('warre', 'NN')],\n",
       " [(':', ':')],\n",
       " [('Why', 'WRB')],\n",
       " [('such', 'JJ')],\n",
       " [('impresse', 'NN')],\n",
       " [('of', 'IN')],\n",
       " [('Ship', 'NN')],\n",
       " [('-', ':')],\n",
       " [('wrights', 'NNS')],\n",
       " [(',', ',')],\n",
       " [('whose', 'WP$')],\n",
       " [('sore', 'NN')],\n",
       " [('Taske', 'NN')],\n",
       " [('Do', 'VB')],\n",
       " [(\"'\", \"''\")],\n",
       " [('s', 'NN')],\n",
       " [('not', 'RB')],\n",
       " [('diuide', 'NN')],\n",
       " [('the', 'DT')],\n",
       " [('Sunday', 'NNP')],\n",
       " [('from', 'IN')],\n",
       " [('the', 'DT')],\n",
       " [('weeke', 'NN')],\n",
       " [(',', ',')],\n",
       " [('What', 'WP')],\n",
       " [('might', 'MD')],\n",
       " [('be', 'VB')],\n",
       " [('toward', 'IN')],\n",
       " [(',', ',')],\n",
       " [('that', 'IN')],\n",
       " [('this', 'DT')],\n",
       " [('sweaty', 'NN')],\n",
       " [('hast', 'NN')],\n",
       " [('Doth', 'NNP')],\n",
       " [('make', 'VB')],\n",
       " [('the', 'DT')],\n",
       " [('Night', 'NN')],\n",
       " [('ioynt', 'NN')],\n",
       " [('-', ':')],\n",
       " [('Labourer', 'NN')],\n",
       " [('with', 'IN')],\n",
       " [('the', 'DT')],\n",
       " [('day', 'NN')],\n",
       " [(':', ':')],\n",
       " [('Who', 'WP')],\n",
       " [('is', 'VBZ')],\n",
       " [(\"'\", \"''\")],\n",
       " [('t', 'NN')],\n",
       " [('that', 'IN')],\n",
       " [('can', 'MD')],\n",
       " [('informe', 'NN')],\n",
       " [('me', 'PRP')],\n",
       " [('?', '.')],\n",
       " [('Hor', 'NN')],\n",
       " [('.', '.')],\n",
       " [('That', 'DT')],\n",
       " [('can', 'MD')],\n",
       " [('I', 'PRP')],\n",
       " [(',', ',')],\n",
       " [('At', 'IN')],\n",
       " [('least', 'JJS')],\n",
       " [('the', 'DT')],\n",
       " [('whisper', 'NN')],\n",
       " [('goes', 'VBZ')],\n",
       " [('so', 'RB')],\n",
       " [(':', ':')],\n",
       " [('Our', 'PRP$')],\n",
       " [('last', 'JJ')],\n",
       " [('King', 'VBG')],\n",
       " [(',', ',')],\n",
       " [('Whose', 'VB')],\n",
       " [('Image', 'NN')],\n",
       " [('euen', 'NN')],\n",
       " [('but', 'CC')],\n",
       " [('now', 'RB')],\n",
       " [('appear', 'VB')],\n",
       " [(\"'\", \"''\")],\n",
       " [('d', 'NN')],\n",
       " [('to', 'TO')],\n",
       " [('vs', 'NN')],\n",
       " [(',', ',')],\n",
       " [('Was', 'NN')],\n",
       " [('(', '(')],\n",
       " [('as', 'IN')],\n",
       " [('you', 'PRP')],\n",
       " [('know', 'VB')],\n",
       " [(')', ')')],\n",
       " [('by', 'IN')],\n",
       " [('Fortinbras', 'NNS')],\n",
       " [('of', 'IN')],\n",
       " [('Norway', 'RB')],\n",
       " [(',', ',')],\n",
       " [('(', '(')],\n",
       " [('Thereto', 'NN')],\n",
       " [('prick', 'NN')],\n",
       " [(\"'\", \"''\")],\n",
       " [('d', 'NN')],\n",
       " [('on', 'IN')],\n",
       " [('by', 'IN')],\n",
       " [('a', 'DT')],\n",
       " [('most', 'JJS')],\n",
       " [('emulate', 'NN')],\n",
       " [('Pride', 'NN')],\n",
       " [(')', ')')],\n",
       " [('Dar', 'NN')],\n",
       " [(\"'\", \"''\")],\n",
       " [('d', 'NN')],\n",
       " [('to', 'TO')],\n",
       " [('the', 'DT')],\n",
       " [('Combate', 'NN')],\n",
       " [('.', '.')],\n",
       " [('In', 'IN')],\n",
       " [('which', 'WDT')],\n",
       " [(',', ',')],\n",
       " [('our', 'PRP$')],\n",
       " [('Valiant', 'NN')],\n",
       " [('Hamlet', 'NN')],\n",
       " [(',', ',')],\n",
       " [('(', '(')],\n",
       " [('For', 'IN')],\n",
       " [('so', 'RB')],\n",
       " [('this', 'DT')],\n",
       " [('side', 'NN')],\n",
       " [('of', 'IN')],\n",
       " [('our', 'PRP$')],\n",
       " [('knowne', 'NN')],\n",
       " [('world', 'NN')],\n",
       " [('esteem', 'NN')],\n",
       " [(\"'\", \"''\")],\n",
       " [('d', 'NN')],\n",
       " [('him', 'PRP')],\n",
       " [(')', ')')],\n",
       " [('Did', 'NN')],\n",
       " [('slay', 'NN')],\n",
       " [('this', 'DT')],\n",
       " [('Fortinbras', 'NNS')],\n",
       " [(':', ':')],\n",
       " [('who', 'WP')],\n",
       " [('by', 'IN')],\n",
       " [('a', 'DT')],\n",
       " [('Seal', 'NN')],\n",
       " [(\"'\", \"''\")],\n",
       " [('d', 'NN')],\n",
       " [('Compact', 'JJ')],\n",
       " [(',', ',')],\n",
       " [('Well', 'RB')],\n",
       " [('ratified', 'VBN')],\n",
       " [('by', 'IN')],\n",
       " [('Law', 'NN')],\n",
       " [(',', ',')],\n",
       " [('and', 'CC')],\n",
       " [('Heraldrie', 'NN')],\n",
       " [(',', ',')],\n",
       " [('Did', 'NN')],\n",
       " [('forfeite', 'NN')],\n",
       " [('(', '(')],\n",
       " [('with', 'IN')],\n",
       " [('his', 'PRP$')],\n",
       " [('life', 'NN')],\n",
       " [(')', ')')],\n",
       " [('all', 'DT')],\n",
       " [('those', 'DT')],\n",
       " [('his', 'PRP$')],\n",
       " [('Lands', 'NNS')],\n",
       " [('Which', 'WDT')],\n",
       " [('he', 'PRP')],\n",
       " [('stood', 'NN')],\n",
       " [('seiz', 'NN')],\n",
       " [(\"'\", \"''\")],\n",
       " [('d', 'NN')],\n",
       " [('on', 'IN')],\n",
       " [(',', ',')],\n",
       " [('to', 'TO')],\n",
       " [('the', 'DT')],\n",
       " [('Conqueror', 'NN')],\n",
       " [(':', ':')],\n",
       " [('Against', 'IN')],\n",
       " [('the', 'DT')],\n",
       " [('which', 'WDT')],\n",
       " [(',', ',')],\n",
       " [('a', 'DT')],\n",
       " [('Moity', 'NN')],\n",
       " [('competent', 'NN')],\n",
       " [('Was', 'NN')],\n",
       " [('gaged', 'VBN')],\n",
       " [('by', 'IN')],\n",
       " [('our', 'PRP$')],\n",
       " [('King', 'VBG')],\n",
       " [(':', ':')],\n",
       " [('which', 'WDT')],\n",
       " [('had', 'VBD')],\n",
       " [('return', 'NN')],\n",
       " [(\"'\", \"''\")],\n",
       " [('d', 'NN')],\n",
       " [('To', 'TO')],\n",
       " [('the', 'DT')],\n",
       " [('Inheritance', 'NN')],\n",
       " [('of', 'IN')],\n",
       " [('Fortinbras', 'NNS')],\n",
       " [(',', ',')],\n",
       " [('Had', 'VBD')],\n",
       " [('he', 'PRP')],\n",
       " [('bin', 'NN')],\n",
       " [('Vanquisher', 'NN')],\n",
       " [(',', ',')],\n",
       " [('as', 'IN')],\n",
       " [('by', 'IN')],\n",
       " [('the', 'DT')],\n",
       " [('same', 'JJ')],\n",
       " [('Cou', 'NN')],\n",
       " [(\"'\", \"''\")],\n",
       " [('nant', 'NN')],\n",
       " [('And', 'CC')],\n",
       " [('carriage', 'NN')],\n",
       " [('of', 'IN')],\n",
       " [('the', 'DT')],\n",
       " [('Article', 'NN')],\n",
       " [('designe', 'NN')],\n",
       " [(',', ',')],\n",
       " [('His', 'PRP$')],\n",
       " [('fell', 'VBD')],\n",
       " ...]"
      ]
     },
     "execution_count": 17,
     "metadata": {},
     "output_type": "execute_result"
    }
   ],
   "source": [
    "hamlet_pos"
   ]
  },
  {
   "cell_type": "markdown",
   "id": "83efeb2f",
   "metadata": {},
   "source": [
    "These are the POS for first 2000 words in \"hamlet\""
   ]
  },
  {
   "cell_type": "code",
   "execution_count": 18,
   "id": "c8a325ad",
   "metadata": {},
   "outputs": [],
   "source": [
    "hamlet_nnp = []\n",
    "for each_pos in hamlet_pos:\n",
    "    if each_pos[0][1] == 'NNP':\n",
    "        hamlet_nnp.append(each_pos[0][0])"
   ]
  },
  {
   "cell_type": "code",
   "execution_count": 19,
   "id": "99abf569",
   "metadata": {},
   "outputs": [
    {
     "data": {
      "text/plain": [
       "['William',\n",
       " 'Francisco',\n",
       " 'Francisco',\n",
       " 'Westward',\n",
       " 'Bell',\n",
       " 'God',\n",
       " 'Mart',\n",
       " 'Sunday',\n",
       " 'Doth',\n",
       " 'Doth',\n",
       " 'God',\n",
       " 'Day',\n",
       " 'Sea',\n",
       " 'Wherein',\n",
       " 'Kingdome',\n",
       " 'Bedrid']"
      ]
     },
     "execution_count": 19,
     "metadata": {},
     "output_type": "execute_result"
    }
   ],
   "source": [
    "hamlet_nnp"
   ]
  },
  {
   "cell_type": "code",
   "execution_count": 20,
   "id": "f3c2cf90",
   "metadata": {},
   "outputs": [
    {
     "name": "stdout",
     "output_type": "stream",
     "text": [
      "[('William', 'NNP')]\n",
      "[('william', 'NN')]\n",
      "[('Reading', 'VBG')]\n",
      "[('reading', 'NN')]\n"
     ]
    }
   ],
   "source": [
    "same_names = [\"William\", \"william\",\"Reading\",\"reading\"]\n",
    "for each_name in same_names:\n",
    "    print(nltk.pos_tag([each_name]))"
   ]
  },
  {
   "cell_type": "code",
   "execution_count": 21,
   "id": "9847b2ba",
   "metadata": {},
   "outputs": [],
   "source": [
    "import numpy as np\n",
    "from nltk import ne_chunk"
   ]
  },
  {
   "cell_type": "code",
   "execution_count": 22,
   "id": "5fd32671",
   "metadata": {},
   "outputs": [],
   "source": [
    "NE_sent = \"The US President stays in the White House\""
   ]
  },
  {
   "cell_type": "code",
   "execution_count": 23,
   "id": "1d97bb15",
   "metadata": {},
   "outputs": [],
   "source": [
    "NE_tokens = word_tokenize(NE_sent)"
   ]
  },
  {
   "cell_type": "code",
   "execution_count": 24,
   "id": "ec570080",
   "metadata": {},
   "outputs": [],
   "source": [
    "NE_tags = nltk.pos_tag(NE_tokens)"
   ]
  },
  {
   "cell_type": "code",
   "execution_count": 25,
   "id": "8f545320",
   "metadata": {},
   "outputs": [],
   "source": [
    "NE_NER = ne_chunk(NE_tags)"
   ]
  },
  {
   "cell_type": "code",
   "execution_count": 26,
   "id": "d066acd3",
   "metadata": {},
   "outputs": [
    {
     "name": "stdout",
     "output_type": "stream",
     "text": [
      "(S\n",
      "  The/DT\n",
      "  (ORGANIZATION US/NNP)\n",
      "  President/NNP\n",
      "  stays/VBZ\n",
      "  in/IN\n",
      "  the/DT\n",
      "  (FACILITY White/NNP House/NNP))\n"
     ]
    }
   ],
   "source": [
    "print(NE_NER)"
   ]
  },
  {
   "cell_type": "code",
   "execution_count": 27,
   "id": "a7d46efd",
   "metadata": {},
   "outputs": [
    {
     "name": "stdout",
     "output_type": "stream",
     "text": [
      "(S\n",
      "  (GPE Apple/NNP)\n",
      "  is/VBZ\n",
      "  a/DT\n",
      "  fruit/NN\n",
      "  and/CC\n",
      "  (PERSON Apple/NNP)\n",
      "  is/VBZ\n",
      "  a/DT\n",
      "  (ORGANIZATION Company/NN)\n",
      "  's/POS\n",
      "  name/NN)\n"
     ]
    }
   ],
   "source": [
    "NE_sent3 = \"Apple is a fruit and Apple is a Company's name\"\n",
    "print(ne_chunk(nltk.pos_tag(word_tokenize(NE_sent3))))"
   ]
  },
  {
   "cell_type": "code",
   "execution_count": 28,
   "id": "f426ad25",
   "metadata": {},
   "outputs": [],
   "source": [
    "import nltk\n",
    "from nltk.tokenize import word_tokenize\n",
    "from nltk.tokenize import RegexpTokenizer\n",
    "import os"
   ]
  },
  {
   "cell_type": "markdown",
   "id": "c99371d9",
   "metadata": {},
   "source": [
    "Ghostscript to obtain tree structure of the tokens and their POS"
   ]
  },
  {
   "cell_type": "code",
   "execution_count": 29,
   "id": "e6987d60",
   "metadata": {},
   "outputs": [
    {
     "data": {
      "image/png": "[encoded data removed]",
      "text/plain": [
       "Tree('S', [Tree('NP', [('The', 'DT'), ('littile', 'NN')]), Tree('NP', [('mouse', 'NN')]), ('ate', 'VBD'), Tree('NP', [('the', 'DT'), ('fresh', 'JJ'), ('cheeze', 'NN')]), ('that', 'WDT'), ('was', 'VBD'), ('on', 'IN'), Tree('NP', [('the', 'DT'), ('table', 'NN')])])"
      ]
     },
     "execution_count": 29,
     "metadata": {},
     "output_type": "execute_result"
    }
   ],
   "source": [
    "sent = \"The littile mouse ate the fresh cheeze that was on the table\"\n",
    "sent_tokens = nltk.pos_tag(word_tokenize(sent))\n",
    "grammer_np = r\"NP:{<DT>?<JJ>*<NN>}\"\n",
    "chunk_parser = nltk.RegexpParser(grammer_np)\n",
    "chunk_result = chunk_parser.parse(sent_tokens)\n",
    "chunk_result"
   ]
  },
  {
   "cell_type": "code",
   "execution_count": 30,
   "id": "7813e3b1",
   "metadata": {},
   "outputs": [
    {
     "data": {
      "image/png": "[encoded data removed]",
      "text/plain": [
       "Tree('S', [('Trees', 'NNS'), ('is', 'VBZ'), ('wearing', 'VBG'), Tree('NP', [('a', 'DT'), ('beautiful', 'JJ'), ('dress', 'NN')]), ('that', 'IN'), ('her', 'PRP$'), Tree('NP', [('mom', 'NN')]), ('gifted', 'VBD'), ('on', 'IN'), ('her', 'PRP'), Tree('NP', [('birthday', 'NN')])])"
      ]
     },
     "execution_count": 30,
     "metadata": {},
     "output_type": "execute_result"
    }
   ],
   "source": [
    "sent2 = \"Trees is wearing a beautiful dress that her mom gifted on her birthday\"\n",
    "sent2_tokens = nltk.pos_tag(word_tokenize(sent2))\n",
    "chunk2_result = chunk_parser.parse(sent2_tokens)\n",
    "chunk2_result"
   ]
  },
  {
   "cell_type": "markdown",
   "id": "a8241182",
   "metadata": {},
   "source": [
    "# Sentiment Analysis and the problem is formulated as below"
   ]
  },
  {
   "cell_type": "markdown",
   "id": "9a9bf75e",
   "metadata": {},
   "source": [
    "input a document d\n",
    "\n",
    "A fixed set of classes C = {c1,c2..cn}\n",
    "\n",
    "Output is a predicted class c belongs to C"
   ]
  },
  {
   "cell_type": "markdown",
   "id": "42866a60",
   "metadata": {},
   "source": [
    "#### Naive Bayes classification for sentiment analysis"
   ]
  },
  {
   "cell_type": "markdown",
   "id": "3ae2e8cc",
   "metadata": {},
   "source": [
    "#### Naive Bayes classification is nothing but applying Bayes rules for formiing classification"
   ]
  },
  {
   "cell_type": "code",
   "execution_count": 31,
   "id": "bcee10a8",
   "metadata": {},
   "outputs": [],
   "source": [
    "# Load and prepare the movie_reviews dataset\n",
    "import nltk\n",
    "from nltk.corpus import movie_reviews\n",
    "import random\n",
    "documents = [(list(movie_reviews.words(fileid)),category)\n",
    "for category in movie_reviews.categories()\n",
    "for fileid in movie_reviews.fileids(category)]\n",
    "random.shuffle(documents)"
   ]
  },
  {
   "cell_type": "code",
   "execution_count": 32,
   "id": "c73997a7",
   "metadata": {},
   "outputs": [],
   "source": [
    "#Define the feature extractor\n",
    "all_words = nltk.FreqDist(w.lower() for w in movie_reviews.words())\n",
    "word_features = list(all_words)[:2000]\n",
    "def document_features(document):\n",
    "    document_words = set(document)\n",
    "    features = {}\n",
    "    for word in word_features:\n",
    "        features['contains({})'.format(word)] = (word in document_words)\n",
    "    return features"
   ]
  },
  {
   "cell_type": "markdown",
   "id": "70b7d744",
   "metadata": {},
   "source": [
    "Trainig and testing the Navie Bayes classifier"
   ]
  },
  {
   "cell_type": "code",
   "execution_count": 33,
   "id": "de9b26e7",
   "metadata": {},
   "outputs": [],
   "source": [
    "# Train Naive Bayes classifier \n",
    "featuresets = [(document_features(d),c) for (d,c) in documents]\n",
    "train_set, test_set = featuresets[100:], featuresets[:100]\n",
    "classifier = nltk.NaiveBayesClassifier.train(train_set)"
   ]
  },
  {
   "cell_type": "code",
   "execution_count": 34,
   "id": "21f5c2d3",
   "metadata": {},
   "outputs": [
    {
     "name": "stdout",
     "output_type": "stream",
     "text": [
      "0.79\n"
     ]
    }
   ],
   "source": [
    "# Test the classifier\n",
    "print(nltk.classify.accuracy(classifier, test_set))"
   ]
  },
  {
   "cell_type": "code",
   "execution_count": 35,
   "id": "78f6a45b",
   "metadata": {},
   "outputs": [
    {
     "name": "stdout",
     "output_type": "stream",
     "text": [
      "Most Informative Features\n",
      "   contains(outstanding) = True              pos : neg    =     11.4 : 1.0\n",
      "         contains(mulan) = True              pos : neg    =      9.1 : 1.0\n",
      "        contains(seagal) = True              neg : pos    =      8.1 : 1.0\n",
      "   contains(wonderfully) = True              pos : neg    =      6.4 : 1.0\n",
      "    contains(ridiculous) = True              neg : pos    =      6.0 : 1.0\n"
     ]
    }
   ],
   "source": [
    "# show the most important features as interpreted by Naive Bayes\n",
    "classifier.show_most_informative_features(5)"
   ]
  },
  {
   "cell_type": "markdown",
   "id": "b329129a",
   "metadata": {},
   "source": [
    "###### Installing the textblob"
   ]
  },
  {
   "cell_type": "code",
   "execution_count": 36,
   "id": "17c5fbf5",
   "metadata": {},
   "outputs": [
    {
     "name": "stdout",
     "output_type": "stream",
     "text": [
      "Requirement already satisfied: textblob in c:\\users\\srinivasareddyb\\anaconda3\\lib\\site-packages (0.17.1)\n",
      "Requirement already satisfied: nltk>=3.1 in c:\\users\\srinivasareddyb\\anaconda3\\lib\\site-packages (from textblob) (3.6.1)\n",
      "Requirement already satisfied: tqdm in c:\\users\\srinivasareddyb\\anaconda3\\lib\\site-packages (from nltk>=3.1->textblob) (4.59.0)\n",
      "Requirement already satisfied: click in c:\\users\\srinivasareddyb\\anaconda3\\lib\\site-packages (from nltk>=3.1->textblob) (7.1.2)\n",
      "Requirement already satisfied: joblib in c:\\users\\srinivasareddyb\\anaconda3\\lib\\site-packages (from nltk>=3.1->textblob) (1.0.1)\n",
      "Requirement already satisfied: regex in c:\\users\\srinivasareddyb\\anaconda3\\lib\\site-packages (from nltk>=3.1->textblob) (2021.4.4)\n"
     ]
    },
    {
     "name": "stderr",
     "output_type": "stream",
     "text": [
      "\n",
      "[notice] A new release of pip available: 22.2.2 -> 22.3\n",
      "[notice] To update, run: python.exe -m pip install --upgrade pip\n"
     ]
    }
   ],
   "source": [
    "!pip install -U textblob"
   ]
  },
  {
   "cell_type": "code",
   "execution_count": 37,
   "id": "d86515f0",
   "metadata": {},
   "outputs": [],
   "source": [
    "from textblob import TextBlob"
   ]
  },
  {
   "cell_type": "code",
   "execution_count": 38,
   "id": "bdc99645",
   "metadata": {},
   "outputs": [
    {
     "name": "stdout",
     "output_type": "stream",
     "text": [
      "Sentiment(polarity=1.0, subjectivity=1.0)\n",
      "Sentiment(polarity=0.9099999999999999, subjectivity=0.7800000000000001)\n"
     ]
    }
   ],
   "source": [
    "# To obtain the polarity and subjectivity of given sentences\n",
    "Feedback1 = \"The food at the restaurant was awesome\"\n",
    "Feedback2 = \"The food at ABC was very good\"\n",
    "blob1 = TextBlob(Feedback1)\n",
    "blob2 = TextBlob(Feedback2)\n",
    "print(blob1.sentiment)\n",
    "print(blob2.sentiment)"
   ]
  },
  {
   "cell_type": "markdown",
   "id": "424909fd",
   "metadata": {},
   "source": [
    "### Sentiment Analysis"
   ]
  },
  {
   "cell_type": "code",
   "execution_count": 39,
   "id": "e6936693",
   "metadata": {},
   "outputs": [],
   "source": [
    "from nltk.classify import NaiveBayesClassifier\n",
    "from nltk.corpus import subjectivity\n",
    "from nltk.sentiment import SentimentAnalyzer\n",
    "from nltk.sentiment.util import*\n",
    "n_instances = 100\n",
    "subj_docs = [(sent, 'subj') for sent in subjectivity.sents(categories='subj')[:n_instances]]\n",
    "obj_docs = [(sent, 'obj') for sent in subjectivity.sents(categories='obj')[:n_instances]]"
   ]
  },
  {
   "cell_type": "code",
   "execution_count": 40,
   "id": "b84c6967",
   "metadata": {},
   "outputs": [
    {
     "data": {
      "text/plain": [
       "(['smart',\n",
       "  'and',\n",
       "  'alert',\n",
       "  ',',\n",
       "  'thirteen',\n",
       "  'conversations',\n",
       "  'about',\n",
       "  'one',\n",
       "  'thing',\n",
       "  'is',\n",
       "  'a',\n",
       "  'small',\n",
       "  'gem',\n",
       "  '.'],\n",
       " 'subj')"
      ]
     },
     "execution_count": 40,
     "metadata": {},
     "output_type": "execute_result"
    }
   ],
   "source": [
    "subj_docs[0]"
   ]
  },
  {
   "cell_type": "code",
   "execution_count": 41,
   "id": "7400ab50",
   "metadata": {},
   "outputs": [],
   "source": [
    "train_subj_docs = subj_docs[:80]\n",
    "test_subj_docs = subj_docs[80:100]\n",
    "train_obj_docs = obj_docs[:80]\n",
    "test_obj_docs = obj_docs[80:100]\n",
    "training_docs = train_subj_docs+train_obj_docs\n",
    "testing_docs = test_subj_docs+test_obj_docs\n",
    "sentiment_analyzer = SentimentAnalyzer()\n",
    "all_words_neg = sentiment_analyzer.all_words([mark_negation(doc) for doc in training_docs])"
   ]
  },
  {
   "cell_type": "markdown",
   "id": "78d0b1ef",
   "metadata": {},
   "source": [
    "#### We use simple unigram word features, handling negation"
   ]
  },
  {
   "cell_type": "code",
   "execution_count": 42,
   "id": "2f93169a",
   "metadata": {},
   "outputs": [
    {
     "data": {
      "text/plain": [
       "83"
      ]
     },
     "execution_count": 42,
     "metadata": {},
     "output_type": "execute_result"
    }
   ],
   "source": [
    "unigram_feats = sentiment_analyzer.unigram_word_feats(all_words_neg, min_freq=4)\n",
    "len(unigram_feats)"
   ]
  },
  {
   "cell_type": "code",
   "execution_count": 43,
   "id": "557dd6ab",
   "metadata": {},
   "outputs": [],
   "source": [
    "training_set = sentiment_analyzer.apply_features(training_docs)\n",
    "test_set = sentiment_analyzer.apply_features(testing_docs)"
   ]
  },
  {
   "cell_type": "code",
   "execution_count": 44,
   "id": "b4553cc5",
   "metadata": {},
   "outputs": [
    {
     "name": "stdout",
     "output_type": "stream",
     "text": [
      "Training classifier\n"
     ]
    }
   ],
   "source": [
    "trainer = NaiveBayesClassifier.train\n",
    "classifier = sentiment_analyzer.train(trainer, training_set)"
   ]
  },
  {
   "cell_type": "code",
   "execution_count": 45,
   "id": "ddfdd0ea",
   "metadata": {},
   "outputs": [
    {
     "name": "stdout",
     "output_type": "stream",
     "text": [
      "Evaluating NaiveBayesClassifier results...\n",
      "Accuracy:0.5\n",
      "F-measure [obj]:None\n",
      "F-measure [subj]:0.6666666666666666\n",
      "Precision [obj]:None\n",
      "Precision [subj]:0.5\n",
      "Recall [obj]:0.0\n",
      "Recall [subj]:1.0\n"
     ]
    }
   ],
   "source": [
    "for key,value in sorted(sentiment_analyzer.evaluate(test_set).items()):\n",
    "    print('{0}:{1}'.format(key, value))"
   ]
  },
  {
   "cell_type": "markdown",
   "id": "2b579e21",
   "metadata": {},
   "source": [
    "#### VADER(Valence Aware Dictionary and Sentiment Reasoner) sentiment analysis"
   ]
  },
  {
   "cell_type": "code",
   "execution_count": 46,
   "id": "0456243a",
   "metadata": {},
   "outputs": [],
   "source": [
    "from nltk.sentiment.vader import SentimentIntensityAnalyzer\n",
    "sentences = [\"VADER is smart, handsome, and funny.\",\n",
    "             \"VADER is smart, handsome, and funny!\", \n",
    "             \"VADER is very smart, handsome, and funny.\",  \n",
    "             \"VADER is VERY SMART, handsome, and FUNNY.\",\n",
    "             \"VADER is VERY SMART, handsome, and FUNNY!!!\",\n",
    "             \"VADER is VERY SMART, really handsome, and INCREDIBLY FUNNY!!!\",\n",
    "             \"The book was good.\",         \n",
    "             \"The book was kind of good.\", \n",
    "             \"The plot was good, but the characters are uncompelling and the dialog is not great.\", \n",
    "             \"A really bad, horrible book.\", \n",
    "             \"At least it isn't a horrible book.\",\n",
    "            \":) and :D\",\n",
    "            \"\",\n",
    "            \"Today sux\",\n",
    "            \"Today sux!\",\n",
    "            \"Today SUX!\",\n",
    "            \"Today kinda sux! But I'll get by, lol\"]"
   ]
  },
  {
   "cell_type": "code",
   "execution_count": 47,
   "id": "71206648",
   "metadata": {},
   "outputs": [],
   "source": [
    "paragraph = \"It was one of the worst movies I've seen, despite good reviews. \\\n",
    "             Unbelievably bad acting!! Poor direction. VERY poor production. \\\n",
    "             The movie was bad. Very bad movie. VERY bad movie. VERY BAD movie. VERY BAD movie!\""
   ]
  },
  {
   "cell_type": "code",
   "execution_count": 48,
   "id": "db3ea4ad",
   "metadata": {},
   "outputs": [],
   "source": [
    "from nltk import tokenize\n",
    "lines_list = tokenize.sent_tokenize(paragraph)\n",
    "sentences.extend(lines_list)"
   ]
  },
  {
   "cell_type": "code",
   "execution_count": 49,
   "id": "06244830",
   "metadata": {},
   "outputs": [],
   "source": [
    "tricky_sentences = [\"Most automated sentiment analysis tools are shit.\",\n",
    "                    \"VADER sentiment analysis is the shit.\",\n",
    "                    \"Sentiment analysis has never been good.\",\n",
    "                    \"Sentiment analysis with VADER has never been this good.\",\n",
    "                    \"Warren Beatty has never been so entertaining.\",\n",
    "                    \"I won't say that the movie is astounding and I wouldn't claim that \\the movie is too banal either.\",\n",
    "                    \"I like to hate Michael Bay films, but I couldn't fault this one\",\n",
    "                    \"I like to hate Michael Bay films, BUT I couldn't help but fault this one\",\n",
    "                    \"It's one thing to watch an Uwe Boll film, but another thing entirely \\to pay for it\",\n",
    "                    \"The movie was too good\",\n",
    "                    \"This movie was actually neither that funny, nor super witty.\",\n",
    "                    \"This movie doesn't care about cleverness, wit or any other kind of \\intelligent humor.\",\n",
    "                    \"Those who find ugly meanings in beautiful things are corrupt without \\being charming.\",\n",
    "                    \"There are slow and repetitive parts, BUT it has just enough spice to \\keep it interesting.\"]"
   ]
  },
  {
   "cell_type": "code",
   "execution_count": 50,
   "id": "7173bd4f",
   "metadata": {},
   "outputs": [
    {
     "name": "stdout",
     "output_type": "stream",
     "text": [
      "VADER is smart, handsome, and funny.\n",
      "compound: 0.8316, neg: 0.0, neu: 0.254, pos: 0.746, \n",
      "VADER is smart, handsome, and funny!\n",
      "compound: 0.8439, neg: 0.0, neu: 0.248, pos: 0.752, \n",
      "VADER is very smart, handsome, and funny.\n",
      "compound: 0.8545, neg: 0.0, neu: 0.299, pos: 0.701, \n",
      "VADER is VERY SMART, handsome, and FUNNY.\n",
      "compound: 0.9227, neg: 0.0, neu: 0.246, pos: 0.754, \n",
      "VADER is VERY SMART, handsome, and FUNNY!!!\n",
      "compound: 0.9342, neg: 0.0, neu: 0.233, pos: 0.767, \n",
      "VADER is VERY SMART, really handsome, and INCREDIBLY FUNNY!!!\n",
      "compound: 0.9469, neg: 0.0, neu: 0.294, pos: 0.706, \n",
      "The book was good.\n",
      "compound: 0.4404, neg: 0.0, neu: 0.508, pos: 0.492, \n",
      "The book was kind of good.\n",
      "compound: 0.3832, neg: 0.0, neu: 0.657, pos: 0.343, \n",
      "The plot was good, but the characters are uncompelling and the dialog is not great.\n",
      "compound: -0.7042, neg: 0.327, neu: 0.579, pos: 0.094, \n",
      "A really bad, horrible book.\n",
      "compound: -0.8211, neg: 0.791, neu: 0.209, pos: 0.0, \n",
      "At least it isn't a horrible book.\n",
      "compound: 0.431, neg: 0.0, neu: 0.637, pos: 0.363, \n",
      ":) and :D\n",
      "compound: 0.7925, neg: 0.0, neu: 0.124, pos: 0.876, \n",
      "\n",
      "compound: 0.0, neg: 0.0, neu: 0.0, pos: 0.0, \n",
      "Today sux\n",
      "compound: -0.3612, neg: 0.714, neu: 0.286, pos: 0.0, \n",
      "Today sux!\n",
      "compound: -0.4199, neg: 0.736, neu: 0.264, pos: 0.0, \n",
      "Today SUX!\n",
      "compound: -0.5461, neg: 0.779, neu: 0.221, pos: 0.0, \n",
      "Today kinda sux! But I'll get by, lol\n",
      "compound: 0.5249, neg: 0.138, neu: 0.517, pos: 0.344, \n",
      "It was one of the worst movies I've seen, despite good reviews.\n",
      "compound: -0.7584, neg: 0.394, neu: 0.606, pos: 0.0, \n",
      "Unbelievably bad acting!!\n",
      "compound: -0.6572, neg: 0.686, neu: 0.314, pos: 0.0, \n",
      "Poor direction.\n",
      "compound: -0.4767, neg: 0.756, neu: 0.244, pos: 0.0, \n",
      "VERY poor production.\n",
      "compound: -0.6281, neg: 0.674, neu: 0.326, pos: 0.0, \n",
      "The movie was bad.\n",
      "compound: -0.5423, neg: 0.538, neu: 0.462, pos: 0.0, \n",
      "Very bad movie.\n",
      "compound: -0.5849, neg: 0.655, neu: 0.345, pos: 0.0, \n",
      "VERY bad movie.\n",
      "compound: -0.6732, neg: 0.694, neu: 0.306, pos: 0.0, \n",
      "VERY BAD movie.\n",
      "compound: -0.7398, neg: 0.724, neu: 0.276, pos: 0.0, \n",
      "VERY BAD movie!\n",
      "compound: -0.7616, neg: 0.735, neu: 0.265, pos: 0.0, \n",
      "Most automated sentiment analysis tools are shit.\n",
      "compound: -0.5574, neg: 0.375, neu: 0.625, pos: 0.0, \n",
      "VADER sentiment analysis is the shit.\n",
      "compound: 0.6124, neg: 0.0, neu: 0.556, pos: 0.444, \n",
      "Sentiment analysis has never been good.\n",
      "compound: -0.3412, neg: 0.325, neu: 0.675, pos: 0.0, \n",
      "Sentiment analysis with VADER has never been this good.\n",
      "compound: 0.5228, neg: 0.0, neu: 0.703, pos: 0.297, \n",
      "Warren Beatty has never been so entertaining.\n",
      "compound: 0.5777, neg: 0.0, neu: 0.616, pos: 0.384, \n",
      "I won't say that the movie is astounding and I wouldn't claim that \the movie is too banal either.\n",
      "compound: 0.4215, neg: 0.0, neu: 0.851, pos: 0.149, \n",
      "I like to hate Michael Bay films, but I couldn't fault this one\n",
      "compound: 0.3153, neg: 0.157, neu: 0.534, pos: 0.309, \n",
      "I like to hate Michael Bay films, BUT I couldn't help but fault this one\n",
      "compound: -0.1531, neg: 0.277, neu: 0.477, pos: 0.246, \n",
      "It's one thing to watch an Uwe Boll film, but another thing entirely \to pay for it\n",
      "compound: -0.2592, neg: 0.12, neu: 0.88, pos: 0.0, \n",
      "The movie was too good\n",
      "compound: 0.4404, neg: 0.0, neu: 0.58, pos: 0.42, \n",
      "This movie was actually neither that funny, nor super witty.\n",
      "compound: -0.6759, neg: 0.41, neu: 0.59, pos: 0.0, \n",
      "This movie doesn't care about cleverness, wit or any other kind of \\intelligent humor.\n",
      "compound: -0.499, neg: 0.289, neu: 0.597, pos: 0.114, \n",
      "Those who find ugly meanings in beautiful things are corrupt without \being charming.\n",
      "compound: -0.3553, neg: 0.314, neu: 0.493, pos: 0.192, \n",
      "There are slow and repetitive parts, BUT it has just enough spice to \\keep it interesting.\n",
      "compound: 0.4678, neg: 0.079, neu: 0.735, pos: 0.186, \n"
     ]
    }
   ],
   "source": [
    "sentences.extend(tricky_sentences)\n",
    "sid = SentimentIntensityAnalyzer()\n",
    "for sentence in sentences:\n",
    "    print(sentence)\n",
    "    ss = sid.polarity_scores(sentence)\n",
    "    for k in sorted(ss):\n",
    "        print('{0}: {1}, '.format(k, ss[k]), end='')\n",
    "    print()"
   ]
  },
  {
   "cell_type": "code",
   "execution_count": 51,
   "id": "aae16fb6",
   "metadata": {},
   "outputs": [
    {
     "data": {
      "text/plain": [
       "{'This': True, 'was': True, 'a': True, 'good': True, 'book': True}"
      ]
     },
     "execution_count": 51,
     "metadata": {},
     "output_type": "execute_result"
    }
   ],
   "source": [
    "def form_sent(sent):\n",
    "    return {word: True for word in nltk.word_tokenize(sent)}\n",
    "form_sent(\"This was a good book\")"
   ]
  },
  {
   "cell_type": "code",
   "execution_count": 52,
   "id": "f1f1db04",
   "metadata": {},
   "outputs": [
    {
     "name": "stdout",
     "output_type": "stream",
     "text": [
      "[{'This': True, 'is': True, 'a': True, 'good': True, 'book': True}, 'pos']\n",
      "[{'This': True, 'is': True, 'a': True, 'awesome': True, 'book': True}, 'pos']\n",
      "[{'This': True, 'is': True, 'a': True, 'bad': True, 'book': True}, 'neg']\n",
      "[{'This': True, 'is': True, 'a': True, 'terrible': True, 'book': True}, 'pos']\n"
     ]
    }
   ],
   "source": [
    "s1 = \"This is a good book\"\n",
    "s2 = \"This is a awesome book\"\n",
    "s3 = \"This is a bad book\"\n",
    "s4 = \"This is a terrible book\"\n",
    "training_data = [[form_sent(s1),'pos'],[form_sent(s2),'pos'],[form_sent(s3),'neg'],[form_sent(s4),'pos']]\n",
    "for t in training_data:\n",
    "    print(t)"
   ]
  },
  {
   "cell_type": "code",
   "execution_count": 53,
   "id": "798f8782",
   "metadata": {},
   "outputs": [
    {
     "data": {
      "text/plain": [
       "'pos'"
      ]
     },
     "execution_count": 53,
     "metadata": {},
     "output_type": "execute_result"
    }
   ],
   "source": [
    "from nltk.classify import NaiveBayesClassifier\n",
    "model = NaiveBayesClassifier.train(training_data)\n",
    "model.classify(form_sent('This is a good article'))"
   ]
  },
  {
   "cell_type": "code",
   "execution_count": 54,
   "id": "5aa0a88f",
   "metadata": {},
   "outputs": [
    {
     "data": {
      "text/plain": [
       "'neg'"
      ]
     },
     "execution_count": 54,
     "metadata": {},
     "output_type": "execute_result"
    }
   ],
   "source": [
    "model.classify(form_sent('This is a bad article'))"
   ]
  },
  {
   "cell_type": "code",
   "execution_count": 55,
   "id": "42752940",
   "metadata": {},
   "outputs": [],
   "source": [
    "from nltk.classify.util import accuracy"
   ]
  },
  {
   "cell_type": "markdown",
   "id": "1243eb25",
   "metadata": {},
   "source": [
    "#### To get the gender of a given name"
   ]
  },
  {
   "cell_type": "code",
   "execution_count": 59,
   "id": "5216b07c",
   "metadata": {},
   "outputs": [
    {
     "data": {
      "text/plain": [
       "{'last_letter': 'k'}"
      ]
     },
     "execution_count": 59,
     "metadata": {},
     "output_type": "execute_result"
    }
   ],
   "source": [
    "# \"Get last letter\"\n",
    "def gender_features(word):\n",
    "    return {'last_letter': word[-1]}\n",
    "gender_features('Shrek')"
   ]
  },
  {
   "cell_type": "code",
   "execution_count": 60,
   "id": "38b9b807",
   "metadata": {},
   "outputs": [],
   "source": [
    "from nltk.corpus import names\n",
    "labeled_names = ([(name, 'male') for name in names.words('male.txt')] +  [(name, 'female') for name in names.words('female.txt')])\n",
    "import random\n",
    "random.shuffle(labeled_names)"
   ]
  },
  {
   "cell_type": "code",
   "execution_count": 61,
   "id": "947ee4f7",
   "metadata": {},
   "outputs": [],
   "source": [
    "featuresets = [(gender_features(n),gender) for (n, gender) in labeled_names]\n",
    "train_set, test_set = featuresets[500:], featuresets[:500]\n",
    "classifier = nltk.NaiveBayesClassifier.train(train_set)"
   ]
  },
  {
   "cell_type": "code",
   "execution_count": 62,
   "id": "06769d5e",
   "metadata": {},
   "outputs": [
    {
     "data": {
      "text/plain": [
       "'male'"
      ]
     },
     "execution_count": 62,
     "metadata": {},
     "output_type": "execute_result"
    }
   ],
   "source": [
    "classifier.classify(gender_features('Neo'))"
   ]
  },
  {
   "cell_type": "code",
   "execution_count": 63,
   "id": "e555b8df",
   "metadata": {},
   "outputs": [
    {
     "data": {
      "text/plain": [
       "'male'"
      ]
     },
     "execution_count": 63,
     "metadata": {},
     "output_type": "execute_result"
    }
   ],
   "source": [
    "classifier.classify(gender_features('olvin'))"
   ]
  },
  {
   "cell_type": "code",
   "execution_count": 64,
   "id": "d72306ef",
   "metadata": {},
   "outputs": [
    {
     "data": {
      "text/plain": [
       "'female'"
      ]
     },
     "execution_count": 64,
     "metadata": {},
     "output_type": "execute_result"
    }
   ],
   "source": [
    "classifier.classify(gender_features('ricky'))"
   ]
  },
  {
   "cell_type": "code",
   "execution_count": 65,
   "id": "41eabb0a",
   "metadata": {},
   "outputs": [
    {
     "data": {
      "text/plain": [
       "'female'"
      ]
     },
     "execution_count": 65,
     "metadata": {},
     "output_type": "execute_result"
    }
   ],
   "source": [
    "classifier.classify(gender_features('serena'))"
   ]
  },
  {
   "cell_type": "code",
   "execution_count": 66,
   "id": "21cb21b5",
   "metadata": {},
   "outputs": [
    {
     "data": {
      "text/plain": [
       "'female'"
      ]
     },
     "execution_count": 66,
     "metadata": {},
     "output_type": "execute_result"
    }
   ],
   "source": [
    "classifier.classify(gender_features('rexi'))"
   ]
  },
  {
   "cell_type": "code",
   "execution_count": 67,
   "id": "fc0ec8ad",
   "metadata": {},
   "outputs": [
    {
     "data": {
      "text/plain": [
       "'male'"
      ]
     },
     "execution_count": 67,
     "metadata": {},
     "output_type": "execute_result"
    }
   ],
   "source": [
    "classifier.classify(gender_features('Teres'))"
   ]
  },
  {
   "cell_type": "code",
   "execution_count": 68,
   "id": "8a5d9a44",
   "metadata": {},
   "outputs": [
    {
     "data": {
      "text/plain": [
       "'male'"
      ]
     },
     "execution_count": 68,
     "metadata": {},
     "output_type": "execute_result"
    }
   ],
   "source": [
    "classifier.classify(gender_features('oshin'))"
   ]
  },
  {
   "cell_type": "code",
   "execution_count": 69,
   "id": "da7e3c54",
   "metadata": {},
   "outputs": [
    {
     "data": {
      "text/plain": [
       "'male'"
      ]
     },
     "execution_count": 69,
     "metadata": {},
     "output_type": "execute_result"
    }
   ],
   "source": [
    "classifier.classify(gender_features('Dev'))"
   ]
  },
  {
   "cell_type": "code",
   "execution_count": 70,
   "id": "176c8870",
   "metadata": {},
   "outputs": [
    {
     "data": {
      "text/plain": [
       "'male'"
      ]
     },
     "execution_count": 70,
     "metadata": {},
     "output_type": "execute_result"
    }
   ],
   "source": [
    "classifier.classify(gender_features('Jerald'))"
   ]
  },
  {
   "cell_type": "code",
   "execution_count": 71,
   "id": "6868e2a5",
   "metadata": {},
   "outputs": [
    {
     "data": {
      "text/plain": [
       "'female'"
      ]
     },
     "execution_count": 71,
     "metadata": {},
     "output_type": "execute_result"
    }
   ],
   "source": [
    "classifier.classify(gender_features('Ruchira'))"
   ]
  },
  {
   "cell_type": "code",
   "execution_count": 72,
   "id": "2c0b04bf",
   "metadata": {},
   "outputs": [
    {
     "data": {
      "text/plain": [
       "'male'"
      ]
     },
     "execution_count": 72,
     "metadata": {},
     "output_type": "execute_result"
    }
   ],
   "source": [
    "classifier.classify(gender_features('James'))"
   ]
  },
  {
   "cell_type": "code",
   "execution_count": 73,
   "id": "5798b3e3",
   "metadata": {},
   "outputs": [
    {
     "name": "stdout",
     "output_type": "stream",
     "text": [
      "0.762\n"
     ]
    }
   ],
   "source": [
    "print(nltk.classify.accuracy(classifier, test_set))"
   ]
  },
  {
   "cell_type": "code",
   "execution_count": 74,
   "id": "f2429057",
   "metadata": {},
   "outputs": [
    {
     "name": "stdout",
     "output_type": "stream",
     "text": [
      "Most Informative Features\n",
      "             last_letter = 'a'            female : male   =     35.8 : 1.0\n",
      "             last_letter = 'k'              male : female =     31.7 : 1.0\n",
      "             last_letter = 'f'              male : female =     15.2 : 1.0\n",
      "             last_letter = 'p'              male : female =     12.5 : 1.0\n",
      "             last_letter = 'v'              male : female =      9.8 : 1.0\n",
      "             last_letter = 'd'              male : female =      9.7 : 1.0\n",
      "             last_letter = 'm'              male : female =      8.9 : 1.0\n",
      "             last_letter = 'o'              male : female =      8.3 : 1.0\n",
      "             last_letter = 'r'              male : female =      7.3 : 1.0\n",
      "             last_letter = 'g'              male : female =      5.1 : 1.0\n",
      "             last_letter = 'w'              male : female =      5.1 : 1.0\n",
      "             last_letter = 't'              male : female =      4.4 : 1.0\n",
      "             last_letter = 'z'              male : female =      4.3 : 1.0\n",
      "             last_letter = 's'              male : female =      4.2 : 1.0\n",
      "             last_letter = 'b'              male : female =      4.1 : 1.0\n",
      "             last_letter = 'j'              male : female =      4.0 : 1.0\n",
      "             last_letter = 'i'            female : male   =      3.7 : 1.0\n",
      "             last_letter = 'u'              male : female =      3.3 : 1.0\n",
      "             last_letter = 'n'              male : female =      2.0 : 1.0\n",
      "             last_letter = 'e'            female : male   =      1.8 : 1.0\n"
     ]
    }
   ],
   "source": [
    "classifier.show_most_informative_features(20)"
   ]
  }
 ],
 "metadata": {
  "kernelspec": {
   "display_name": "Python 3",
   "language": "python",
   "name": "python3"
  },
  "language_info": {
   "codemirror_mode": {
    "name": "ipython",
    "version": 3
   },
   "file_extension": ".py",
   "mimetype": "text/x-python",
   "name": "python",
   "nbconvert_exporter": "python",
   "pygments_lexer": "ipython3",
   "version": "3.8.8"
  }
 },
 "nbformat": 4,
 "nbformat_minor": 5
}
