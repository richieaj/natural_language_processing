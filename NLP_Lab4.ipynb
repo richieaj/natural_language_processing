{
 "cells": [
  {
   "cell_type": "markdown",
   "id": "1d01e093",
   "metadata": {},
   "source": [
    "# Write a program for lemmatizing words Using WordNet "
   ]
  },
  {
   "cell_type": "code",
   "execution_count": 1,
   "id": "fa1ab5ce",
   "metadata": {},
   "outputs": [
    {
     "data": {
      "text/plain": [
       "'book'"
      ]
     },
     "execution_count": 1,
     "metadata": {},
     "output_type": "execute_result"
    }
   ],
   "source": [
    "import nltk\n",
    "\n",
    "from nltk.stem import WordNetLemmatizer\n",
    "lemmatizer = WordNetLemmatizer()\n",
    "lemmatizer.lemmatize( 'books' )"
   ]
  },
  {
   "cell_type": "markdown",
   "id": "62c504df",
   "metadata": {},
   "source": [
    "# Write a program to differentiate stemming and lemmatizing words."
   ]
  },
  {
   "cell_type": "code",
   "execution_count": 2,
   "id": "f13a6597",
   "metadata": {},
   "outputs": [
    {
     "data": {
      "text/plain": [
       "' believes '"
      ]
     },
     "execution_count": 2,
     "metadata": {},
     "output_type": "execute_result"
    }
   ],
   "source": [
    "from nltk.stem import WordNetLemmatizer\n",
    "lemmatizer = WordNetLemmatizer()\n",
    "lemmatizer.lemmatize(' believes ')"
   ]
  },
  {
   "cell_type": "code",
   "execution_count": 3,
   "id": "4d7e2d89",
   "metadata": {},
   "outputs": [
    {
     "data": {
      "text/plain": [
       "'corr'"
      ]
     },
     "execution_count": 3,
     "metadata": {},
     "output_type": "execute_result"
    }
   ],
   "source": [
    "#Stemming\n",
    "from nltk.stem import SnowballStemmer\n",
    "spanishStemmer=SnowballStemmer(\"spanish\", ignore_stopwords=True)\n",
    "spanishStemmer. stem(\"Corriendo\")"
   ]
  },
  {
   "cell_type": "code",
   "execution_count": 4,
   "id": "76656bed",
   "metadata": {},
   "outputs": [],
   "source": [
    "from nltk.stem import PorterStemmer\n",
    "from nltk.stem import LancasterStemmer"
   ]
  },
  {
   "cell_type": "code",
   "execution_count": 5,
   "id": "397752f9",
   "metadata": {},
   "outputs": [],
   "source": [
    "porter = PorterStemmer()\n",
    "lancaster= LancasterStemmer ()"
   ]
  },
  {
   "cell_type": "code",
   "execution_count": 6,
   "id": "a6227392",
   "metadata": {},
   "outputs": [
    {
     "name": "stdout",
     "output_type": "stream",
     "text": [
      "Porter Stemmer\n",
      "cat\n",
      "troubl\n",
      "troubl\n",
      "troubl\n",
      "believ\n",
      "Lancaster Stemmer\n",
      "cat\n",
      "troubl\n",
      "“troubling\n",
      "troubl\n",
      "believ\n"
     ]
    }
   ],
   "source": [
    "print(\"Porter Stemmer\")\n",
    "print(porter.stem(\"cats\"))\n",
    "print(porter.stem(\"trouble\"))\n",
    "print(porter.stem( \"troubling\" ))\n",
    "print(porter.stem(\"troubled\"))\n",
    "print(porter.stem(\"believe\"))\n",
    "print(\"Lancaster Stemmer\")\n",
    "print(lancaster.stem(\"cats\"))\n",
    "print (lancaster.stem(\"trouble\"))\n",
    "print (lancaster.stem(\"“troubling\"))\n",
    "print(lancaster.stem(\"troubled\"))\n",
    "print (lancaster.stem(\"believe\"))"
   ]
  },
  {
   "cell_type": "markdown",
   "id": "1e991e46",
   "metadata": {},
   "source": [
    "# The root words from different methods are also different in few cases"
   ]
  },
  {
   "cell_type": "code",
   "execution_count": 7,
   "id": "6b844793",
   "metadata": {},
   "outputs": [
    {
     "data": {
      "text/plain": [
       "'christ university is the best place to learn about the new trending tec'"
      ]
     },
     "execution_count": 7,
     "metadata": {},
     "output_type": "execute_result"
    }
   ],
   "source": [
    "sentence=\"Christ University is the best place to learn about the new trending tec\"\n",
    "porter. stem(sentence)"
   ]
  },
  {
   "cell_type": "code",
   "execution_count": 8,
   "id": "dee4d517",
   "metadata": {},
   "outputs": [
    {
     "name": "stdout",
     "output_type": "stream",
     "text": [
      "christ univers is the best place to learn about the new trend tec \n"
     ]
    }
   ],
   "source": [
    "from nltk.tokenize import sent_tokenize, word_tokenize\n",
    "\n",
    "def stemSentence(sentence):\n",
    "    token_words=word_tokenize(sentence)\n",
    "    token_words\n",
    "    stem_sentence=[]\n",
    "    for word in token_words:\n",
    "        stem_sentence.append(porter.stem(word) )\n",
    "        stem_sentence.append(\" \")\n",
    "\n",
    "    return \"\".join(stem_sentence)\n",
    "\n",
    "x=stemSentence(sentence)\n",
    "print(x)"
   ]
  },
  {
   "cell_type": "markdown",
   "id": "40c06c71",
   "metadata": {},
   "source": [
    "# We are trying to find root words of a text. Reading the text to file"
   ]
  },
  {
   "cell_type": "code",
   "execution_count": 34,
   "id": "43e08feb",
   "metadata": {},
   "outputs": [
    {
     "data": {
      "text/plain": [
       "'God created this whole wonderful world. He made it beautiful, happy and green. There were large green fields with grass and colourful flowers. Then God made birds and animals to live in the meadows and the fields, the woods and the forests. After that God created Man to take care of his beautiful creations. He made Man as the most intelligent and best of all his creations.\\nBut then, God had some doubt in his mind. He wondered if Man would really take good care of his creations. So he warned Man, “You must keep earth as green and as beautiful as I have created it. Do not commit any sin when you go to Earth. Or as a punishment the earth will lose its beauty and will turn into a vast desert.”\\nSoon Man forgot God’s warning. He started stealing, lying and committing other sins. So Earth turned into a vast desert. But when Man realized his mistake, then God forgave him. That is why there is still some greenery left on the Earth yet.'"
      ]
     },
     "execution_count": 34,
     "metadata": {},
     "output_type": "execute_result"
    }
   ],
   "source": [
    "# file = open(\"C:\\\\Users\\\\teres\\\\OneDrive\\\\Desktop\\\\PG Sem 3\\\\NLP Lab\\\\Lab_5.txt\")\n",
    "#file = open('C:/Users/srinivasareddyb/Downloads/LAB4.txt')\n",
    "file = open(\"LAB4.txt\", encoding=\"utf8\")\n",
    "file.read()"
   ]
  },
  {
   "cell_type": "markdown",
   "id": "46ec4033",
   "metadata": {},
   "source": [
    "# Reading the text data line wise"
   ]
  },
  {
   "cell_type": "code",
   "execution_count": 40,
   "id": "23e2e055",
   "metadata": {},
   "outputs": [
    {
     "data": {
      "text/plain": [
       "['God created this whole wonderful world. He made it beautiful, happy and green. There were large green fields with grass and colourful flowers. Then God made birds and animals to live in the meadows and the fields, the woods and the forests. After that God created Man to take care of his beautiful creations. He made Man as the most intelligent and best of all his creations.\\n',\n",
       " 'But then, God had some doubt in his mind. He wondered if Man would really take good care of his creations. So he warned Man, “You must keep earth as green and as beautiful as I have created it. Do not commit any sin when you go to Earth. Or as a punishment the earth will lose its beauty and will turn into a vast desert.”\\n',\n",
       " 'Soon Man forgot God’s warning. He started stealing, lying and committing other sins. So Earth turned into a vast desert. But when Man realized his mistake, then God forgave him. That is why there is still some greenery left on the Earth yet.']"
      ]
     },
     "execution_count": 40,
     "metadata": {},
     "output_type": "execute_result"
    }
   ],
   "source": [
    "file=open(\"LAB4.txt\",encoding=\"utf8\")\n",
    "my_lines_list=file.readlines()\n",
    "my_lines_list"
   ]
  },
  {
   "cell_type": "markdown",
   "id": "e84b2e41",
   "metadata": {},
   "source": [
    "# To display the original text data and the stemmed sentence"
   ]
  },
  {
   "cell_type": "code",
   "execution_count": 41,
   "id": "15595df9",
   "metadata": {},
   "outputs": [
    {
     "name": "stdout",
     "output_type": "stream",
     "text": [
      "God created this whole wonderful world. He made it beautiful, happy and green. There were large green fields with grass and colourful flowers. Then God made birds and animals to live in the meadows and the fields, the woods and the forests. After that God created Man to take care of his beautiful creations. He made Man as the most intelligent and best of all his creations.\n",
      "\n",
      "Stemmed Sentence\n",
      "god creat thi whole wonder world . he made it beauti , happi and green . there were larg green field with grass and colour flower . then god made bird and anim to live in the meadow and the field , the wood and the forest . after that god creat man to take care of hi beauti creation . he made man as the most intellig and best of all hi creation . \n"
     ]
    }
   ],
   "source": [
    "from nltk.tokenize import sent_tokenize, word_tokenize\n",
    "from nltk.stem import PorterStemmer\n",
    "\n",
    "def stemSentence(sentence):\n",
    "    token_words=word_tokenize(sentence)\n",
    "    token_words\n",
    "    stem_sentence=[ ]\n",
    "    for word in token_words:\n",
    "        stem_sentence.append(porter.stem(word))\n",
    "        stem_sentence.append(\" \")\n",
    "    return \"\".join(stem_sentence)\n",
    "\n",
    "print(my_lines_list[0])\n",
    "print(\"Stemmed Sentence\")\n",
    "\n",
    "x=stemSentence(my_lines_list[0])\n",
    "print (x)"
   ]
  },
  {
   "cell_type": "code",
   "execution_count": 44,
   "id": "ebe063bc",
   "metadata": {},
   "outputs": [
    {
     "ename": "UnsupportedOperation",
     "evalue": "not writable",
     "output_type": "error",
     "traceback": [
      "\u001b[1;31m---------------------------------------------------------------------------\u001b[0m",
      "\u001b[1;31mUnsupportedOperation\u001b[0m                      Traceback (most recent call last)",
      "\u001b[1;32m<ipython-input-44-e30e3502a622>\u001b[0m in \u001b[0;36m<module>\u001b[1;34m\u001b[0m\n\u001b[0;32m      2\u001b[0m \u001b[1;32mfor\u001b[0m \u001b[0mline\u001b[0m \u001b[1;32min\u001b[0m \u001b[0mmy_lines_list\u001b[0m\u001b[1;33m:\u001b[0m\u001b[1;33m\u001b[0m\u001b[1;33m\u001b[0m\u001b[0m\n\u001b[0;32m      3\u001b[0m     \u001b[0mstem_sentence\u001b[0m\u001b[1;33m=\u001b[0m\u001b[0mstemSentence\u001b[0m\u001b[1;33m(\u001b[0m\u001b[0mline\u001b[0m\u001b[1;33m)\u001b[0m\u001b[1;33m\u001b[0m\u001b[1;33m\u001b[0m\u001b[0m\n\u001b[1;32m----> 4\u001b[1;33m     \u001b[0mstem_file\u001b[0m\u001b[1;33m.\u001b[0m\u001b[0mwrite\u001b[0m\u001b[1;33m(\u001b[0m\u001b[0mstem_sentence\u001b[0m\u001b[1;33m)\u001b[0m\u001b[1;33m\u001b[0m\u001b[1;33m\u001b[0m\u001b[0m\n\u001b[0m\u001b[0;32m      5\u001b[0m \u001b[1;33m\u001b[0m\u001b[0m\n\u001b[0;32m      6\u001b[0m \u001b[0mstem_file\u001b[0m\u001b[1;33m.\u001b[0m\u001b[0mclose\u001b[0m\u001b[1;33m(\u001b[0m\u001b[1;33m)\u001b[0m\u001b[1;33m\u001b[0m\u001b[1;33m\u001b[0m\u001b[0m\n",
      "\u001b[1;31mUnsupportedOperation\u001b[0m: not writable"
     ]
    }
   ],
   "source": [
    "stem_file=open(\"LAB4.txt\",encoding=\"utf8\")\n",
    "for line in my_lines_list:\n",
    "    stem_sentence=stemSentence(line)\n",
    "    stem_file.write(stem_sentence)\n",
    "\n",
    "stem_file.close()"
   ]
  },
  {
   "cell_type": "markdown",
   "id": "ac98a98f",
   "metadata": {},
   "source": [
    "# The words are the root word using Porter Stemmer and Lancaster Stemmer for the input words"
   ]
  },
  {
   "cell_type": "code",
   "execution_count": 14,
   "id": "c81067da",
   "metadata": {},
   "outputs": [
    {
     "name": "stdout",
     "output_type": "stream",
     "text": [
      "word                Porter Stemmer      Lancaster Stemmer   \n",
      "fellowship          fellowship                fellow              \n",
      "enemy               enemi                     enemy               \n",
      "destab              destab                    destab              \n",
      "misunderstanding    misunderstand             misunderstand       \n",
      "friends             friend                    friend              \n",
      "stabilise           stabilis                  stabl               \n",
      "friendshop          friendshop                friendshop          \n"
     ]
    }
   ],
   "source": [
    "word_list = {\"enemy\", \"fellowship\", \"friends\", \"friendshop\",\"stabilise\", \"destab\",\"misunderstanding\" }\n",
    "print (\"{0:20}{1:20}{2:20}\".format(\"word\",\"Porter Stemmer\", \"Lancaster Stemmer\"))\n",
    "\n",
    "for word in word_list:\n",
    "    print(\"{0:20}{1:26}{2:20}\".format(word, porter.stem(word), lancaster.stem(word)))"
   ]
  }
 ],
 "metadata": {
  "kernelspec": {
   "display_name": "Python 3",
   "language": "python",
   "name": "python3"
  },
  "language_info": {
   "codemirror_mode": {
    "name": "ipython",
    "version": 3
   },
   "file_extension": ".py",
   "mimetype": "text/x-python",
   "name": "python",
   "nbconvert_exporter": "python",
   "pygments_lexer": "ipython3",
   "version": "3.8.8"
  }
 },
 "nbformat": 4,
 "nbformat_minor": 5
}
